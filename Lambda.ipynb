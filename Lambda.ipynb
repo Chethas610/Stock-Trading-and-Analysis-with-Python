{
 "cells": [
  {
   "cell_type": "markdown",
   "id": "f1178c71-8e3a-45a0-8fac-4469c8789939",
   "metadata": {},
   "source": [
    "# Notebook Instructions\n",
    "\n",
    "1. If you are new to Jupyter notebooks, please go through this introductory manual <a href='https://quantra.quantinsti.com/quantra-notebook' target=\"_blank\">here</a>.\n",
    "1. Any changes made in this notebook would be lost after you close the browser window. **You can download the notebook to save your work on your PC.**\n",
    "1. Before running this notebook on your local PC:<br>\n",
    "i.  You need to set up a Python environment and the relevant packages on your local PC. To do so, go through the section on \"**Run Codes Locally on Your Machine**\" in the course.<br>\n",
    "ii. You need to **download the zip file available in the last unit** of this course. The zip file contains the data files and/or python modules that might be required to run this notebook."
   ]
  },
  {
   "cell_type": "markdown",
   "id": "9669227f",
   "metadata": {},
   "source": [
    "## What is lambda?\n",
    "\n",
    "The lambda operator is a way to create small <b>anonymous functions</b> i.e. functions without a name.<br>\n",
    "<br>\n",
    "They are temporary functions i.e. they are needed only where they have been created.<br>\n",
    "<br>\n",
    "The lambda feature was added in Python due to high demand from the Lisp programmers (Lisp is a programming language)."
   ]
  },
  {
   "cell_type": "markdown",
   "id": "4db154e8",
   "metadata": {},
   "source": [
    "## A simple lambda example\n",
    "\n",
    "The general syntax for Lambda is as follows:<br>\n",
    "<pre><b>lambda</b> argument_list: expression</pre>\n",
    "Let us have a look at some of the examples."
   ]
  },
  {
   "cell_type": "code",
   "execution_count": 1,
   "id": "7e1fd394",
   "metadata": {},
   "outputs": [],
   "source": [
    "sum = lambda x, y : x + y"
   ]
  },
  {
   "cell_type": "code",
   "execution_count": 2,
   "id": "e300f48f",
   "metadata": {},
   "outputs": [
    {
     "data": {
      "text/plain": [
       "5"
      ]
     },
     "execution_count": 2,
     "metadata": {},
     "output_type": "execute_result"
    }
   ],
   "source": [
    "sum(2, 3)"
   ]
  },
  {
   "cell_type": "markdown",
   "id": "a76f0b7b",
   "metadata": {},
   "source": [
    "It is similar to defining a function where x and y are the parameters and x + y is the operation performed in the block of codes.<br>\n",
    "<br>\n",
    "You can even observe, that the usage of lambda is the same as the function call.  "
   ]
  },
  {
   "cell_type": "code",
   "execution_count": 3,
   "id": "eb8bed77",
   "metadata": {},
   "outputs": [],
   "source": [
    "# Another example\n",
    "product = lambda x, y : x * y"
   ]
  },
  {
   "cell_type": "code",
   "execution_count": 4,
   "id": "b960374f",
   "metadata": {},
   "outputs": [
    {
     "data": {
      "text/plain": [
       "6"
      ]
     },
     "execution_count": 4,
     "metadata": {},
     "output_type": "execute_result"
    }
   ],
   "source": [
    "product(2, 3)"
   ]
  },
  {
   "cell_type": "code",
   "execution_count": 5,
   "id": "6c2cbd8e",
   "metadata": {},
   "outputs": [],
   "source": [
    "# One more example\n",
    "my_operation = lambda x, y, z : x + y - z"
   ]
  },
  {
   "cell_type": "code",
   "execution_count": 6,
   "id": "ad5a8644",
   "metadata": {},
   "outputs": [
    {
     "data": {
      "text/plain": [
       "0"
      ]
     },
     "execution_count": 6,
     "metadata": {},
     "output_type": "execute_result"
    }
   ],
   "source": [
    "my_operation(10, 20, 30)"
   ]
  },
  {
   "cell_type": "markdown",
   "id": "9149d450",
   "metadata": {},
   "source": [
    "### map () \n",
    "\n",
    "One of the advantages of using a lambda is the map() function.<br>\n",
    "<pre> map (<b>lambda</b>, sequence of lists)</pre>\n",
    "map() applies the lambda function to all elements within the sequence. These elements are generally lists."
   ]
  },
  {
   "cell_type": "code",
   "execution_count": 7,
   "id": "eac4daa5",
   "metadata": {},
   "outputs": [],
   "source": [
    "# The lists have to be of same length to apply the map () function in lambda.\n",
    "\n",
    "list_1 = [1, 2, 3, 4]\n",
    "\n",
    "list_2 = [10, 20, 30, 40]\n",
    "\n",
    "list_3 = [100, 200, 300, 400]"
   ]
  },
  {
   "cell_type": "code",
   "execution_count": 8,
   "id": "4aa7d74b",
   "metadata": {},
   "outputs": [
    {
     "data": {
      "text/plain": [
       "[11, 22, 33, 44]"
      ]
     },
     "execution_count": 8,
     "metadata": {},
     "output_type": "execute_result"
    }
   ],
   "source": [
    "list(map(lambda x, y: x + y, list_1, list_2))"
   ]
  },
  {
   "cell_type": "code",
   "execution_count": 9,
   "id": "41f4d867",
   "metadata": {},
   "outputs": [
    {
     "data": {
      "text/plain": [
       "[111, 222, 333, 444]"
      ]
     },
     "execution_count": 9,
     "metadata": {},
     "output_type": "execute_result"
    }
   ],
   "source": [
    "list(map(lambda x, y, z: x + y + z, list_1, list_2, list_3))"
   ]
  },
  {
   "cell_type": "code",
   "execution_count": 10,
   "id": "052f9ee1",
   "metadata": {},
   "outputs": [
    {
     "data": {
      "text/plain": [
       "[110, 220, 330, 440]"
      ]
     },
     "execution_count": 10,
     "metadata": {},
     "output_type": "execute_result"
    }
   ],
   "source": [
    "list(map(lambda y, z: y + z, list_2, list_3))"
   ]
  },
  {
   "cell_type": "markdown",
   "id": "5a58c9b3",
   "metadata": {},
   "source": [
    "### filter ()\n",
    "Another advantage of using a lambda is the filter() function.<br>\n",
    "<pre> filter (<b>lambda</b>, list)</pre>\n",
    "It is an elegant way to filter out the required elements from a list."
   ]
  },
  {
   "cell_type": "code",
   "execution_count": 11,
   "id": "e02030b9",
   "metadata": {},
   "outputs": [],
   "source": [
    "fib = [0, 1, 1, 2, 3, 5, 8, 13, 21, 34, 55]  # This is a list"
   ]
  },
  {
   "cell_type": "code",
   "execution_count": 12,
   "id": "adfdded4",
   "metadata": {},
   "outputs": [
    {
     "data": {
      "text/plain": [
       "[13, 21, 34, 55]"
      ]
     },
     "execution_count": 12,
     "metadata": {},
     "output_type": "execute_result"
    }
   ],
   "source": [
    "list(filter(lambda x: x > 8, fib))"
   ]
  },
  {
   "cell_type": "code",
   "execution_count": 13,
   "id": "9ef8b71c",
   "metadata": {},
   "outputs": [
    {
     "data": {
      "text/plain": [
       "[0, 1, 1, 2, 3, 5]"
      ]
     },
     "execution_count": 13,
     "metadata": {},
     "output_type": "execute_result"
    }
   ],
   "source": [
    "list(filter(lambda x: x < 8, fib))"
   ]
  },
  {
   "cell_type": "code",
   "execution_count": 14,
   "id": "e662164b",
   "metadata": {},
   "outputs": [],
   "source": [
    "signals = ['Buy', 'Sell', 'Sell', 'Buy',\n",
    "           'Buy', 'Sell', 'Buy']  # This is a list"
   ]
  },
  {
   "cell_type": "code",
   "execution_count": 15,
   "id": "cdda9f1b",
   "metadata": {},
   "outputs": [
    {
     "data": {
      "text/plain": [
       "['Buy', 'Buy', 'Buy', 'Buy']"
      ]
     },
     "execution_count": 15,
     "metadata": {},
     "output_type": "execute_result"
    }
   ],
   "source": [
    "list(filter(lambda x: x == 'Buy', signals))"
   ]
  },
  {
   "cell_type": "markdown",
   "id": "d5f1d581",
   "metadata": {},
   "source": [
    "In the upcoming IPython notebooks, we will understand about the <b>NumPy</b> library. <br><br>"
   ]
  }
 ],
 "metadata": {
  "kernelspec": {
   "display_name": "Python 3 (ipykernel)",
   "language": "python",
   "name": "python3"
  },
  "language_info": {
   "codemirror_mode": {
    "name": "ipython",
    "version": 3
   },
   "file_extension": ".py",
   "mimetype": "text/x-python",
   "name": "python",
   "nbconvert_exporter": "python",
   "pygments_lexer": "ipython3",
   "version": "3.9.5"
  }
 },
 "nbformat": 4,
 "nbformat_minor": 5
}
