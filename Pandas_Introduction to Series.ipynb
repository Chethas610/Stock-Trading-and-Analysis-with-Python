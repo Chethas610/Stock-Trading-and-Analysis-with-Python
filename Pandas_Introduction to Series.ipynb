{
 "cells": [
  {
   "cell_type": "markdown",
   "id": "f1178c71-8e3a-45a0-8fac-4469c8789939",
   "metadata": {},
   "source": [
    "# Notebook Instructions\n",
    "\n",
    "1. If you are new to Jupyter notebooks, please go through this introductory manual <a href='https://quantra.quantinsti.com/quantra-notebook' target=\"_blank\">here</a>.\n",
    "1. Any changes made in this notebook would be lost after you close the browser window. **You can download the notebook to save your work on your PC.**\n",
    "1. Before running this notebook on your local PC:<br>\n",
    "i.  You need to set up a Python environment and the relevant packages on your local PC. To do so, go through the section on \"**Run Codes Locally on Your Machine**\" in the course.<br>\n",
    "ii. You need to **download the zip file available in the last unit** of this course. The zip file contains the data files and/or python modules that might be required to run this notebook."
   ]
  },
  {
   "cell_type": "markdown",
   "id": "1d5f8728",
   "metadata": {},
   "source": [
    "# Notebook Contents\n",
    "\n",
    "##### <span style=\"color:green\">1. Why are we studying series?</span>\n",
    "##### <span style=\"color:green\">2. Series datastructure</span>\n",
    "#####  <span style=\"color:green\">3. Methods or functions</span>\n",
    "##### <span style=\"color:green\">4. pandas.Series.apply()</span>"
   ]
  },
  {
   "cell_type": "markdown",
   "id": "5927ebea",
   "metadata": {},
   "source": [
    "# Why are we studying series?"
   ]
  },
  {
   "cell_type": "markdown",
   "id": "de9826eb",
   "metadata": {},
   "source": [
    "In Python, understanding Series is a natural predecessor to understanding dataframes.<br>\n",
    "<br>\n",
    "Series are indexed data frame with only one data column. It is easier to understand them first before moving to study complex data frames.\n"
   ]
  },
  {
   "cell_type": "markdown",
   "id": "9b330f94",
   "metadata": {},
   "source": [
    "# Series \n",
    "\n",
    "A series is a one-dimensional labelled 'array-like' object. The labels are nothing but the index of the data. <br>\n",
    "Or <br>\n",
    "A series is a special case of a two-dimensional array, which has only 2 columns- one column is for the index and the other column is for data. "
   ]
  },
  {
   "cell_type": "code",
   "execution_count": 1,
   "id": "38206eb8",
   "metadata": {},
   "outputs": [
    {
     "name": "stdout",
     "output_type": "stream",
     "text": [
      "0    10\n",
      "1    20\n",
      "2    30\n",
      "3    40\n",
      "4    50\n",
      "5    60\n",
      "dtype: int64\n"
     ]
    }
   ],
   "source": [
    "import pandas as pd\n",
    "\n",
    "# Series created using a list\n",
    "My_Series_int = pd.Series([10, 20, 30, 40, 50, 60])\n",
    "\n",
    "print(My_Series_int)"
   ]
  },
  {
   "cell_type": "markdown",
   "id": "0724e0d3",
   "metadata": {},
   "source": [
    "The constructor for Series data structure is <font color=red>pandas.Series (data=None, index=None, dtype=None, name=None)</font>. If you are using 'pd' as alias, then it would be <font color=red>pd.Series()</font>"
   ]
  },
  {
   "cell_type": "code",
   "execution_count": 2,
   "id": "8e8070e4",
   "metadata": {},
   "outputs": [
    {
     "name": "stdout",
     "output_type": "stream",
     "text": [
      "0    10.1\n",
      "1    20.2\n",
      "2    30.4\n",
      "3    40.4\n",
      "4    50.5\n",
      "5    60.6\n",
      "dtype: float64\n"
     ]
    }
   ],
   "source": [
    "import pandas\n",
    "\n",
    "# Series created using a list\n",
    "My_Series_flt = pandas.Series([10.1, 20.2, 30.4, 40.4, 50.5, 60.6])\n",
    "\n",
    "print(My_Series_flt)"
   ]
  },
  {
   "cell_type": "markdown",
   "id": "5ea1944e",
   "metadata": {},
   "source": [
    "You can see that it returns an indexed column and the data type of that column which is 'int' in this case."
   ]
  },
  {
   "cell_type": "markdown",
   "id": "b52f2ffc",
   "metadata": {},
   "source": [
    "Series is capable of holding any data type. For e.g. integers, float, strings and so on. A series can contain multiple data types too."
   ]
  },
  {
   "cell_type": "code",
   "execution_count": 3,
   "id": "5bd69fa0",
   "metadata": {},
   "outputs": [
    {
     "name": "stdout",
     "output_type": "stream",
     "text": [
      "0    10.1\n",
      "1      20\n",
      "2     jay\n",
      "3    40.4\n",
      "dtype: object\n"
     ]
    }
   ],
   "source": [
    "# Series created using a list\n",
    "My_Series_mixed = pd.Series([10.1, 20, 'jay', 40.4])\n",
    "\n",
    "print(My_Series_mixed)"
   ]
  },
  {
   "cell_type": "markdown",
   "id": "ea65f8dd",
   "metadata": {},
   "source": [
    "The above series returns an 'object' datatype since a Python object is created at this instance. "
   ]
  },
  {
   "cell_type": "markdown",
   "id": "3f48356a",
   "metadata": {},
   "source": [
    "Let us have a look at a few other ways of creating series objects."
   ]
  },
  {
   "cell_type": "code",
   "execution_count": 4,
   "id": "29dd4c9b",
   "metadata": {},
   "outputs": [
    {
     "data": {
      "text/plain": [
       "India      Narendra Modi\n",
       "USA         Donald Trump\n",
       "Japan         Shinzo Abe\n",
       "Russia    Vladimir Putin\n",
       "China          Xi Jinpin\n",
       "dtype: object"
      ]
     },
     "execution_count": 4,
     "metadata": {},
     "output_type": "execute_result"
    }
   ],
   "source": [
    "# Defining series objects with individual indices\n",
    "\n",
    "countries = ['India', 'USA', 'Japan', 'Russia', 'China']\n",
    "leaders = ['Narendra Modi', 'Donald Trump',\n",
    "           'Shinzo Abe', 'Vladimir Putin', 'Xi Jinpin']\n",
    "\n",
    "S = pd.Series(leaders, index=countries)  # Index is explicitly defined here\n",
    "S"
   ]
  },
  {
   "cell_type": "code",
   "execution_count": 5,
   "id": "c81116c6",
   "metadata": {},
   "outputs": [
    {
     "name": "stdout",
     "output_type": "stream",
     "text": [
      "Alphabet    100\n",
      "IBM         250\n",
      "Tesla       300\n",
      "Infosys     500\n",
      "dtype: int64\n",
      "\n",
      "\n",
      "Alphabet    500\n",
      "IBM         400\n",
      "Tesla       110\n",
      "Infosys     700\n",
      "dtype: int64\n",
      "\n",
      "\n",
      "Alphabet     600\n",
      "IBM          650\n",
      "Tesla        410\n",
      "Infosys     1200\n",
      "dtype: int64\n"
     ]
    }
   ],
   "source": [
    "# Have a look at the series S1\n",
    "\n",
    "stocks_set1 = ['Alphabet', 'IBM', 'Tesla', 'Infosys']\n",
    "\n",
    "# Here, we are inserting data as a list in series constructor, but the argument of its index is passed as a pre-defined list\n",
    "S1 = pd.Series([100, 250, 300, 500], index=stocks_set1)\n",
    "\n",
    "print(S1)\n",
    "print(\"\\n\")\n",
    "\n",
    "# Now, have a look at the series S2\n",
    "\n",
    "stocks_set2 = ['Alphabet', 'IBM', 'Tesla', 'Infosys']\n",
    "\n",
    "# Here, we are inserting data as a list in series constructor, but the argument of its index is passed as a pre-defined list\n",
    "\n",
    "S2 = pd.Series([500, 400, 110, 700], index=stocks_set2)\n",
    "\n",
    "print(S2)\n",
    "print(\"\\n\")\n",
    "\n",
    "# We will add Series S1 and S2\n",
    "\n",
    "print(S1 + S2)"
   ]
  },
  {
   "cell_type": "code",
   "execution_count": 6,
   "id": "3cc00f2c",
   "metadata": {},
   "outputs": [
    {
     "name": "stdout",
     "output_type": "stream",
     "text": [
      "Alphabet    100\n",
      "IBM         250\n",
      "Tesla       300\n",
      "Infosys     500\n",
      "dtype: int64\n",
      "\n",
      "\n",
      "Alphabet    500\n",
      "Facebook    700\n",
      "Tesla       110\n",
      "Infosys     700\n",
      "dtype: int64\n",
      "\n",
      "\n",
      "Alphabet     600.0\n",
      "Facebook       NaN\n",
      "IBM            NaN\n",
      "Infosys     1200.0\n",
      "Tesla        410.0\n",
      "dtype: float64\n"
     ]
    }
   ],
   "source": [
    "# Adding lists that have different indexes  will create 'NaN' values\n",
    "\n",
    "stocks_set1 = ['Alphabet', 'IBM', 'Tesla', 'Infosys']\n",
    "stocks_set2 = ['Alphabet', 'Facebook', 'Tesla', 'Infosys']\n",
    "\n",
    "S3 = pd.Series([100, 250, 300, 500], index=stocks_set1)\n",
    "S4 = pd.Series([500, 700, 110, 700], index=stocks_set2)\n",
    "\n",
    "\n",
    "print(S3)\n",
    "print(\"\\n\")\n",
    "\n",
    "print(S4)\n",
    "print(\"\\n\")\n",
    "\n",
    "print(S3+S4)"
   ]
  },
  {
   "cell_type": "markdown",
   "id": "1b8f0305",
   "metadata": {},
   "source": [
    "'NaN' is short for 'Not a Number'. It fills the space for missing or corrupt data.<br>\n",
    "It is important to understand how to deal with NaN values because when you import actual time series data, you are bound to find some missing or corrupted data."
   ]
  },
  {
   "cell_type": "markdown",
   "id": "c4bd0d90",
   "metadata": {},
   "source": [
    "## Methods or functions\n",
    "\n",
    "We will have a look at a few important methods or functions that can be applied on Series. "
   ]
  },
  {
   "cell_type": "markdown",
   "id": "105fbf5d",
   "metadata": {},
   "source": [
    "##### <span style=\"color:black\">Series.index</span>\n",
    "It is useful to know the range of the index when the series is large."
   ]
  },
  {
   "cell_type": "code",
   "execution_count": 7,
   "id": "3c45b32b",
   "metadata": {},
   "outputs": [
    {
     "name": "stdout",
     "output_type": "stream",
     "text": [
      "RangeIndex(start=0, stop=5, step=1)\n"
     ]
    }
   ],
   "source": [
    "My_Series = pd.Series([10, 20, 30, 40, 50])\n",
    "\n",
    "print(My_Series.index)"
   ]
  },
  {
   "cell_type": "markdown",
   "id": "91ed69eb",
   "metadata": {},
   "source": [
    "##### <span style=\"color:black\">Series.values</span>\n",
    "It returns the values of the series."
   ]
  },
  {
   "cell_type": "code",
   "execution_count": 8,
   "id": "6660f32b",
   "metadata": {},
   "outputs": [
    {
     "name": "stdout",
     "output_type": "stream",
     "text": [
      "[10 20 30 40 50]\n"
     ]
    }
   ],
   "source": [
    "My_Series = pd.Series([10, 20, 30, 40, 50])\n",
    "\n",
    "print(My_Series.values)"
   ]
  },
  {
   "cell_type": "markdown",
   "id": "34910e1e",
   "metadata": {},
   "source": [
    "##### <span style=\"color:black\">Series.isnull()</span>\n",
    "We can check for missing values with this method."
   ]
  },
  {
   "cell_type": "code",
   "execution_count": 9,
   "id": "2cf1be29",
   "metadata": {},
   "outputs": [
    {
     "name": "stdout",
     "output_type": "stream",
     "text": [
      "Alphabet     600.0\n",
      "Facebook       NaN\n",
      "IBM            NaN\n",
      "Infosys     1200.0\n",
      "Tesla        410.0\n",
      "dtype: float64\n"
     ]
    }
   ],
   "source": [
    "# Remember the (S3 + S4) series? You may have a look at it\n",
    "\n",
    "print(S3 + S4)"
   ]
  },
  {
   "cell_type": "code",
   "execution_count": 10,
   "id": "ee77e136",
   "metadata": {},
   "outputs": [
    {
     "data": {
      "text/plain": [
       "Alphabet    False\n",
       "Facebook     True\n",
       "IBM          True\n",
       "Infosys     False\n",
       "Tesla       False\n",
       "dtype: bool"
      ]
     },
     "execution_count": 10,
     "metadata": {},
     "output_type": "execute_result"
    }
   ],
   "source": [
    "# Returns whether the values are null or not. If it is 'True' then the value for that index is a 'NaN value\n",
    "\n",
    "(S3 + S4).isnull()"
   ]
  },
  {
   "cell_type": "markdown",
   "id": "d6c6a3b9",
   "metadata": {},
   "source": [
    "##### <span style=\"color:black\">Series.dropna()</span>\n",
    "One way to deal with the 'NaN' values is to drop them completely from the series. This method filters out missing data."
   ]
  },
  {
   "cell_type": "code",
   "execution_count": 11,
   "id": "044ab581",
   "metadata": {},
   "outputs": [
    {
     "name": "stdout",
     "output_type": "stream",
     "text": [
      "Alphabet     600.0\n",
      "Infosys     1200.0\n",
      "Tesla        410.0\n",
      "dtype: float64\n"
     ]
    }
   ],
   "source": [
    "print((S3 + S4).dropna())"
   ]
  },
  {
   "cell_type": "markdown",
   "id": "5b694a21",
   "metadata": {},
   "source": [
    "In the above output, we have produced the (S3 + S4) addition of the values and along with the series elements, and we have even dropped the 'NaN' values. "
   ]
  },
  {
   "cell_type": "markdown",
   "id": "9393766a",
   "metadata": {},
   "source": [
    "##### <span style=\"color:black\">Series.fillna(1)</span>\n",
    "Another way to deal with the 'NaN' values is to fill a custom value of your choice. Here, we are filling the 'NaN' values with the value '1'. "
   ]
  },
  {
   "cell_type": "code",
   "execution_count": 12,
   "id": "7adcac04",
   "metadata": {},
   "outputs": [
    {
     "name": "stdout",
     "output_type": "stream",
     "text": [
      "Alphabet     600.0\n",
      "Facebook       1.0\n",
      "IBM            1.0\n",
      "Infosys     1200.0\n",
      "Tesla        410.0\n",
      "dtype: float64\n"
     ]
    }
   ],
   "source": [
    "print((S3 + S4).fillna(1))  # The output is self-explanatory in this case"
   ]
  },
  {
   "cell_type": "markdown",
   "id": "6f835af5",
   "metadata": {},
   "source": [
    "## pandas.Series.apply()\n",
    "\n",
    "If at all one wants to 'apply' any functions on a particular series, e.g. one wants to 'sine' of each value in the series, then it is possible in pandas.\n",
    "<br>\n",
    "<b>Series.apply (func)</b>\n",
    "<br>\n",
    "func = A python function that will be applied to every single value of the series."
   ]
  },
  {
   "cell_type": "code",
   "execution_count": 13,
   "id": "8d622935",
   "metadata": {},
   "outputs": [
    {
     "name": "stdout",
     "output_type": "stream",
     "text": [
      "0    10\n",
      "1    20\n",
      "2    30\n",
      "3    40\n",
      "4    50\n",
      "5    60\n",
      "dtype: int64\n"
     ]
    }
   ],
   "source": [
    "import numpy as np  # Create a new series as My_Series\n",
    "\n",
    "My_Series = pd.Series([10, 20, 30, 40, 50, 60])\n",
    "\n",
    "print(My_Series)"
   ]
  },
  {
   "cell_type": "code",
   "execution_count": 14,
   "id": "0ed3ec32",
   "metadata": {},
   "outputs": [
    {
     "data": {
      "text/plain": [
       "0   -0.544021\n",
       "1    0.912945\n",
       "2   -0.988032\n",
       "3    0.745113\n",
       "4   -0.262375\n",
       "5   -0.304811\n",
       "dtype: float64"
      ]
     },
     "execution_count": 14,
     "metadata": {},
     "output_type": "execute_result"
    }
   ],
   "source": [
    "My_Series.apply(np.sin)  # Find 'sine' of each value in the series"
   ]
  },
  {
   "cell_type": "code",
   "execution_count": 15,
   "id": "97400d60",
   "metadata": {},
   "outputs": [
    {
     "data": {
      "text/plain": [
       "0    0.648361\n",
       "1    2.237161\n",
       "2   -6.405331\n",
       "3   -1.117215\n",
       "4   -0.271901\n",
       "5    0.320040\n",
       "dtype: float64"
      ]
     },
     "execution_count": 15,
     "metadata": {},
     "output_type": "execute_result"
    }
   ],
   "source": [
    "My_Series.apply(np.tan)  # Finding 'tan' of each value in the series"
   ]
  },
  {
   "cell_type": "markdown",
   "id": "9f041ae4",
   "metadata": {},
   "source": [
    "In the upcoming Jupyter notebook, we will understand <b>DataFrames</b> but before that let us solve some Quizzes and a couple of exercises.<br><br>"
   ]
  }
 ],
 "metadata": {
  "anaconda-cloud": {},
  "kernelspec": {
   "display_name": "Python 3 (ipykernel)",
   "language": "python",
   "name": "python3"
  },
  "language_info": {
   "codemirror_mode": {
    "name": "ipython",
    "version": 3
   },
   "file_extension": ".py",
   "mimetype": "text/x-python",
   "name": "python",
   "nbconvert_exporter": "python",
   "pygments_lexer": "ipython3",
   "version": "3.9.5"
  }
 },
 "nbformat": 4,
 "nbformat_minor": 5
}
