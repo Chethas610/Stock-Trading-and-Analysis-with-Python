{
 "cells": [
  {
   "cell_type": "code",
   "execution_count": 126,
   "id": "6c8840ce",
   "metadata": {},
   "outputs": [],
   "source": [
    "import numpy as np\n",
    "import pandas as pd\n",
    "import matplotlib.pyplot as plt\n",
    "import matplotlib as mpl\n",
    "import scipy as sp\n",
    "import statsmodels.api as sm\n",
    "import statsmodels.formula.api as smf"
   ]
  },
  {
   "cell_type": "code",
   "execution_count": 127,
   "id": "fd4196a5",
   "metadata": {},
   "outputs": [],
   "source": [
    "import warnings; warnings.simplefilter('ignore')"
   ]
  },
  {
   "cell_type": "code",
   "execution_count": 128,
   "id": "a8352bb3",
   "metadata": {},
   "outputs": [],
   "source": [
    "%matplotlib inline\n",
    "plt.rcParams['figure.dpi'] = 300\n",
    "plt.rcParams['figure.figsize'] = (12, 6)\n",
    "plt.rcParams.update({'font.size': 16})"
   ]
  },
  {
   "cell_type": "markdown",
   "id": "037824f5",
   "metadata": {},
   "source": [
    "# Exercise 1"
   ]
  },
  {
   "cell_type": "code",
   "execution_count": 129,
   "id": "35001ada",
   "metadata": {},
   "outputs": [],
   "source": [
    "hourwork = pd.read_excel('hourwork.xlsx')"
   ]
  },
  {
   "cell_type": "markdown",
   "id": "03e43df0",
   "metadata": {},
   "source": [
    "## a. Regress average hours worked during the year on the variables given in the table and interpret your regression"
   ]
  },
  {
   "cell_type": "code",
   "execution_count": 130,
   "id": "3663cc83",
   "metadata": {},
   "outputs": [],
   "source": [
    "hourwork_y =  hourwork[['HRS']].copy()"
   ]
  },
  {
   "cell_type": "code",
   "execution_count": 131,
   "id": "6fea736c",
   "metadata": {},
   "outputs": [],
   "source": [
    "hourwork_y=hourwork_y.drop([0],axis=0)"
   ]
  },
  {
   "cell_type": "code",
   "execution_count": 132,
   "id": "2fde8abb",
   "metadata": {},
   "outputs": [],
   "source": [
    "columns_to_drop = ['HRS','obs']\n",
    "hourwork_x = hourwork.drop(columns_to_drop, axis=1)\n",
    "hourwork_x1 = hourwork_x.assign(constant=1)"
   ]
  },
  {
   "cell_type": "code",
   "execution_count": 133,
   "id": "b17d4fe9",
   "metadata": {},
   "outputs": [],
   "source": [
    "hourwork_x1=hourwork_x1.drop([0], axis=0)"
   ]
  },
  {
   "cell_type": "code",
   "execution_count": 134,
   "id": "2ab2a085",
   "metadata": {
    "scrolled": true
   },
   "outputs": [
    {
     "name": "stdout",
     "output_type": "stream",
     "text": [
      "                            OLS Regression Results                            \n",
      "==============================================================================\n",
      "Dep. Variable:                    HRS   R-squared:                       0.826\n",
      "Model:                            OLS   Adj. R-squared:                  0.772\n",
      "Method:                 Least Squares   F-statistic:                     15.38\n",
      "Date:                Sat, 28 Jan 2023   Prob (F-statistic):           4.57e-08\n",
      "Time:                        19:28:37   Log-Likelihood:                -164.22\n",
      "No. Observations:                  35   AIC:                             346.4\n",
      "Df Residuals:                      26   BIC:                             360.4\n",
      "Df Model:                           8                                         \n",
      "Covariance Type:            nonrobust                                         \n",
      "==============================================================================\n",
      "                 coef    std err          t      P>|t|      [0.025      0.975]\n",
      "------------------------------------------------------------------------------\n",
      "RATE         -93.7526     47.145     -1.989      0.057    -190.660       3.155\n",
      "ERSP           0.0002      0.038      0.006      0.995      -0.078       0.079\n",
      "ERNO          -0.2150      0.098     -2.195      0.037      -0.416      -0.014\n",
      "NEIN           0.1572      0.516      0.304      0.763      -0.904       1.219\n",
      "ASSET          0.0156      0.025      0.613      0.545      -0.037       0.068\n",
      "AGE           -0.3486      3.722     -0.094      0.926      -8.000       7.303\n",
      "DEP           20.7280     16.880      1.228      0.230     -13.970      55.426\n",
      "SCHOOL        37.3256     22.665      1.647      0.112      -9.263      83.915\n",
      "constant    1904.5776    251.933      7.560      0.000    1386.721    2422.434\n",
      "==============================================================================\n",
      "Omnibus:                        1.155   Durbin-Watson:                   1.780\n",
      "Prob(Omnibus):                  0.561   Jarque-Bera (JB):                0.892\n",
      "Skew:                          -0.383   Prob(JB):                        0.640\n",
      "Kurtosis:                       2.846   Cond. No.                     3.32e+05\n",
      "==============================================================================\n",
      "\n",
      "Notes:\n",
      "[1] Standard Errors assume that the covariance matrix of the errors is correctly specified.\n",
      "[2] The condition number is large, 3.32e+05. This might indicate that there are\n",
      "strong multicollinearity or other numerical problems.\n"
     ]
    }
   ],
   "source": [
    "model=sm.OLS(hourwork_y,hourwork_x1)\n",
    "results=model.fit()\n",
    "print(results.summary())"
   ]
  },
  {
   "cell_type": "markdown",
   "id": "69cff47d",
   "metadata": {},
   "source": [
    "## Interpretation\n",
    "Only school and Rate are the variables are significant, because their P value is lower than 0.05 which means we reject the null hypothesis that Beta is qual to 0. Rest of the variable are no signficant which means that they do not help predict the value of hourwork."
   ]
  },
  {
   "cell_type": "code",
   "execution_count": 135,
   "id": "07cf88dc",
   "metadata": {},
   "outputs": [
    {
     "data": {
      "text/html": [
       "<div>\n",
       "<style scoped>\n",
       "    .dataframe tbody tr th:only-of-type {\n",
       "        vertical-align: middle;\n",
       "    }\n",
       "\n",
       "    .dataframe tbody tr th {\n",
       "        vertical-align: top;\n",
       "    }\n",
       "\n",
       "    .dataframe thead th {\n",
       "        text-align: right;\n",
       "    }\n",
       "</style>\n",
       "<table border=\"1\" class=\"dataframe\">\n",
       "  <thead>\n",
       "    <tr style=\"text-align: right;\">\n",
       "      <th></th>\n",
       "      <th>HRS</th>\n",
       "    </tr>\n",
       "  </thead>\n",
       "  <tbody>\n",
       "    <tr>\n",
       "      <th>1</th>\n",
       "      <td>2157.0</td>\n",
       "    </tr>\n",
       "    <tr>\n",
       "      <th>2</th>\n",
       "      <td>2174.0</td>\n",
       "    </tr>\n",
       "    <tr>\n",
       "      <th>3</th>\n",
       "      <td>2062.0</td>\n",
       "    </tr>\n",
       "    <tr>\n",
       "      <th>4</th>\n",
       "      <td>2111.0</td>\n",
       "    </tr>\n",
       "    <tr>\n",
       "      <th>5</th>\n",
       "      <td>2134.0</td>\n",
       "    </tr>\n",
       "  </tbody>\n",
       "</table>\n",
       "</div>"
      ],
      "text/plain": [
       "      HRS\n",
       "1  2157.0\n",
       "2  2174.0\n",
       "3  2062.0\n",
       "4  2111.0\n",
       "5  2134.0"
      ]
     },
     "execution_count": 135,
     "metadata": {},
     "output_type": "execute_result"
    }
   ],
   "source": [
    "hourwork_y.head()"
   ]
  },
  {
   "cell_type": "markdown",
   "id": "ccc49454",
   "metadata": {},
   "source": [
    "## b. Is there evidence of multicollinearity in the data? How do you know?"
   ]
  },
  {
   "cell_type": "code",
   "execution_count": 136,
   "id": "15fda280",
   "metadata": {},
   "outputs": [
    {
     "data": {
      "text/html": [
       "<div>\n",
       "<style scoped>\n",
       "    .dataframe tbody tr th:only-of-type {\n",
       "        vertical-align: middle;\n",
       "    }\n",
       "\n",
       "    .dataframe tbody tr th {\n",
       "        vertical-align: top;\n",
       "    }\n",
       "\n",
       "    .dataframe thead th {\n",
       "        text-align: right;\n",
       "    }\n",
       "</style>\n",
       "<table border=\"1\" class=\"dataframe\">\n",
       "  <thead>\n",
       "    <tr style=\"text-align: right;\">\n",
       "      <th></th>\n",
       "      <th>RATE</th>\n",
       "      <th>ERSP</th>\n",
       "      <th>ERNO</th>\n",
       "      <th>NEIN</th>\n",
       "      <th>ASSET</th>\n",
       "      <th>AGE</th>\n",
       "      <th>DEP</th>\n",
       "      <th>SCHOOL</th>\n",
       "      <th>constant</th>\n",
       "    </tr>\n",
       "  </thead>\n",
       "  <tbody>\n",
       "    <tr>\n",
       "      <th>RATE</th>\n",
       "      <td>1.000000</td>\n",
       "      <td>0.571693</td>\n",
       "      <td>0.058992</td>\n",
       "      <td>0.701787</td>\n",
       "      <td>0.778932</td>\n",
       "      <td>0.044173</td>\n",
       "      <td>-0.601358</td>\n",
       "      <td>0.881271</td>\n",
       "      <td>NaN</td>\n",
       "    </tr>\n",
       "    <tr>\n",
       "      <th>ERSP</th>\n",
       "      <td>0.571693</td>\n",
       "      <td>1.000000</td>\n",
       "      <td>-0.040994</td>\n",
       "      <td>0.234426</td>\n",
       "      <td>0.274094</td>\n",
       "      <td>-0.015300</td>\n",
       "      <td>-0.692881</td>\n",
       "      <td>0.549108</td>\n",
       "      <td>NaN</td>\n",
       "    </tr>\n",
       "    <tr>\n",
       "      <th>ERNO</th>\n",
       "      <td>0.058992</td>\n",
       "      <td>-0.040994</td>\n",
       "      <td>1.000000</td>\n",
       "      <td>0.359094</td>\n",
       "      <td>0.292243</td>\n",
       "      <td>0.775494</td>\n",
       "      <td>0.050212</td>\n",
       "      <td>-0.298555</td>\n",
       "      <td>NaN</td>\n",
       "    </tr>\n",
       "    <tr>\n",
       "      <th>NEIN</th>\n",
       "      <td>0.701787</td>\n",
       "      <td>0.234426</td>\n",
       "      <td>0.359094</td>\n",
       "      <td>1.000000</td>\n",
       "      <td>0.987510</td>\n",
       "      <td>0.502432</td>\n",
       "      <td>-0.520832</td>\n",
       "      <td>0.539173</td>\n",
       "      <td>NaN</td>\n",
       "    </tr>\n",
       "    <tr>\n",
       "      <th>ASSET</th>\n",
       "      <td>0.778932</td>\n",
       "      <td>0.274094</td>\n",
       "      <td>0.292243</td>\n",
       "      <td>0.987510</td>\n",
       "      <td>1.000000</td>\n",
       "      <td>0.417086</td>\n",
       "      <td>-0.513552</td>\n",
       "      <td>0.630899</td>\n",
       "      <td>NaN</td>\n",
       "    </tr>\n",
       "    <tr>\n",
       "      <th>AGE</th>\n",
       "      <td>0.044173</td>\n",
       "      <td>-0.015300</td>\n",
       "      <td>0.775494</td>\n",
       "      <td>0.502432</td>\n",
       "      <td>0.417086</td>\n",
       "      <td>1.000000</td>\n",
       "      <td>-0.048360</td>\n",
       "      <td>-0.331067</td>\n",
       "      <td>NaN</td>\n",
       "    </tr>\n",
       "    <tr>\n",
       "      <th>DEP</th>\n",
       "      <td>-0.601358</td>\n",
       "      <td>-0.692881</td>\n",
       "      <td>0.050212</td>\n",
       "      <td>-0.520832</td>\n",
       "      <td>-0.513552</td>\n",
       "      <td>-0.048360</td>\n",
       "      <td>1.000000</td>\n",
       "      <td>-0.602575</td>\n",
       "      <td>NaN</td>\n",
       "    </tr>\n",
       "    <tr>\n",
       "      <th>SCHOOL</th>\n",
       "      <td>0.881271</td>\n",
       "      <td>0.549108</td>\n",
       "      <td>-0.298555</td>\n",
       "      <td>0.539173</td>\n",
       "      <td>0.630899</td>\n",
       "      <td>-0.331067</td>\n",
       "      <td>-0.602575</td>\n",
       "      <td>1.000000</td>\n",
       "      <td>NaN</td>\n",
       "    </tr>\n",
       "    <tr>\n",
       "      <th>constant</th>\n",
       "      <td>NaN</td>\n",
       "      <td>NaN</td>\n",
       "      <td>NaN</td>\n",
       "      <td>NaN</td>\n",
       "      <td>NaN</td>\n",
       "      <td>NaN</td>\n",
       "      <td>NaN</td>\n",
       "      <td>NaN</td>\n",
       "      <td>NaN</td>\n",
       "    </tr>\n",
       "  </tbody>\n",
       "</table>\n",
       "</div>"
      ],
      "text/plain": [
       "              RATE      ERSP      ERNO      NEIN     ASSET       AGE  \\\n",
       "RATE      1.000000  0.571693  0.058992  0.701787  0.778932  0.044173   \n",
       "ERSP      0.571693  1.000000 -0.040994  0.234426  0.274094 -0.015300   \n",
       "ERNO      0.058992 -0.040994  1.000000  0.359094  0.292243  0.775494   \n",
       "NEIN      0.701787  0.234426  0.359094  1.000000  0.987510  0.502432   \n",
       "ASSET     0.778932  0.274094  0.292243  0.987510  1.000000  0.417086   \n",
       "AGE       0.044173 -0.015300  0.775494  0.502432  0.417086  1.000000   \n",
       "DEP      -0.601358 -0.692881  0.050212 -0.520832 -0.513552 -0.048360   \n",
       "SCHOOL    0.881271  0.549108 -0.298555  0.539173  0.630899 -0.331067   \n",
       "constant       NaN       NaN       NaN       NaN       NaN       NaN   \n",
       "\n",
       "               DEP    SCHOOL  constant  \n",
       "RATE     -0.601358  0.881271       NaN  \n",
       "ERSP     -0.692881  0.549108       NaN  \n",
       "ERNO      0.050212 -0.298555       NaN  \n",
       "NEIN     -0.520832  0.539173       NaN  \n",
       "ASSET    -0.513552  0.630899       NaN  \n",
       "AGE      -0.048360 -0.331067       NaN  \n",
       "DEP       1.000000 -0.602575       NaN  \n",
       "SCHOOL   -0.602575  1.000000       NaN  \n",
       "constant       NaN       NaN       NaN  "
      ]
     },
     "execution_count": 136,
     "metadata": {},
     "output_type": "execute_result"
    }
   ],
   "source": [
    "hourwork_x1.iloc[:,0:].corr()"
   ]
  },
  {
   "cell_type": "markdown",
   "id": "0d6788cc",
   "metadata": {},
   "source": [
    "This table shows that most of the variables does not have correlation of 0 with each other, which shows us that there is multicollinearity."
   ]
  },
  {
   "cell_type": "markdown",
   "id": "3ff8c4c2",
   "metadata": {},
   "source": [
    "## c. Compute the variance inflation factors (VIF) and TOL measures for the various regressors."
   ]
  },
  {
   "cell_type": "code",
   "execution_count": 137,
   "id": "aafa92af",
   "metadata": {},
   "outputs": [],
   "source": [
    "from statsmodels.stats.outliers_influence import variance_inflation_factor as vif"
   ]
  },
  {
   "cell_type": "code",
   "execution_count": 138,
   "id": "0fa0eec3",
   "metadata": {},
   "outputs": [],
   "source": [
    "hourwork_x=hourwork_x.drop([0],axis=0)"
   ]
  },
  {
   "cell_type": "code",
   "execution_count": 139,
   "id": "fb8ccf9c",
   "metadata": {},
   "outputs": [
    {
     "name": "stdout",
     "output_type": "stream",
     "text": [
      "  feature     VIF\n",
      "0    RATE   586.6\n",
      "1    ERSP    64.9\n",
      "2    ERNO    35.0\n",
      "3    NEIN  1183.2\n",
      "4   ASSET   956.1\n",
      "5     AGE   305.4\n",
      "6     DEP    63.6\n",
      "7  SCHOOL   509.7\n"
     ]
    }
   ],
   "source": [
    "vif_data = pd.DataFrame()\n",
    "\n",
    "vif_data[\"feature\"] = hourwork_x.columns\n",
    "\n",
    "vif_data[\"VIF\"] = [vif(hourwork_x.values, i) \\\n",
    "                   for i in range(len(hourwork_x.columns))]\n",
    "print(vif_data.round(1))"
   ]
  },
  {
   "cell_type": "code",
   "execution_count": 140,
   "id": "f6461ba1",
   "metadata": {},
   "outputs": [],
   "source": [
    "model1=smf.ols(formula='RATE~ERSP+ERNO+NEIN+ASSET+AGE+DEP+SCHOOL',data=hourwork_x)\n",
    "model2=smf.ols(formula='ERSP~RATE+ERNO+NEIN+ASSET+AGE+DEP+SCHOOL',data=hourwork_x)\n",
    "model3=smf.ols(formula='ERNO~ERSP+RATE+NEIN+ASSET+AGE+DEP+SCHOOL',data=hourwork_x)\n",
    "model4=smf.ols(formula='NEIN~ERSP+ERNO+RATE+ASSET+AGE+DEP+SCHOOL',data=hourwork_x)\n",
    "model5=smf.ols(formula='ASSET~ERSP+ERNO+NEIN+RATE+AGE+DEP+SCHOOL',data=hourwork_x)\n",
    "model6=smf.ols(formula='AGE~ERSP+ERNO+NEIN+ASSET+RATE+DEP+SCHOOL',data=hourwork_x)\n",
    "model7=smf.ols(formula='DEP~ERSP+ERNO+NEIN+ASSET+AGE+RATE+SCHOOL',data=hourwork_x)\n",
    "model8=smf.ols(formula='SCHOOL~ERSP+ERNO+NEIN+ASSET+AGE+DEP+RATE',data=hourwork_x)"
   ]
  },
  {
   "cell_type": "code",
   "execution_count": 141,
   "id": "11083d0d",
   "metadata": {},
   "outputs": [],
   "source": [
    "md1 = model1.fit()\n",
    "md2 = model2.fit()\n",
    "md3 = model3.fit()\n",
    "md4 = model4.fit()\n",
    "md5 = model5.fit()\n",
    "md6 = model6.fit()\n",
    "md7 = model7.fit()\n",
    "md8 = model8.fit()\n"
   ]
  },
  {
   "cell_type": "code",
   "execution_count": 142,
   "id": "c06b739a",
   "metadata": {},
   "outputs": [],
   "source": [
    "hourwork_aux = pd.DataFrame()\n",
    "\n",
    "hourwork_aux[\"Dependent Variable\"] = hourwork_x.columns\n",
    "\n",
    "hourwork_aux[\"R2 value\"] = [md1.rsquared, md2.rsquared, md3.rsquared, md4.rsquared, \\\n",
    "                           md5.rsquared, md6.rsquared, md7.rsquared, md8.rsquared]\n",
    "\n",
    "hourwork_aux[\"Tolerance (TOL) = 1- R2\"] = [1- md1.rsquared, 1- md2.rsquared, 1- md3.rsquared, \\\n",
    "                                  1- md4.rsquared, 1- md5.rsquared, 1- md6.rsquared, 1-md7.rsquared, 1-md8.rsquared ]"
   ]
  },
  {
   "cell_type": "code",
   "execution_count": 143,
   "id": "6653ef99",
   "metadata": {},
   "outputs": [
    {
     "data": {
      "text/html": [
       "<div>\n",
       "<style scoped>\n",
       "    .dataframe tbody tr th:only-of-type {\n",
       "        vertical-align: middle;\n",
       "    }\n",
       "\n",
       "    .dataframe tbody tr th {\n",
       "        vertical-align: top;\n",
       "    }\n",
       "\n",
       "    .dataframe thead th {\n",
       "        text-align: right;\n",
       "    }\n",
       "</style>\n",
       "<table border=\"1\" class=\"dataframe\">\n",
       "  <thead>\n",
       "    <tr style=\"text-align: right;\">\n",
       "      <th></th>\n",
       "      <th>Dependent Variable</th>\n",
       "      <th>R2 value</th>\n",
       "      <th>Tolerance (TOL) = 1- R2</th>\n",
       "    </tr>\n",
       "  </thead>\n",
       "  <tbody>\n",
       "    <tr>\n",
       "      <th>0</th>\n",
       "      <td>RATE</td>\n",
       "      <td>0.9415</td>\n",
       "      <td>0.0585</td>\n",
       "    </tr>\n",
       "    <tr>\n",
       "      <th>1</th>\n",
       "      <td>ERSP</td>\n",
       "      <td>0.7142</td>\n",
       "      <td>0.2858</td>\n",
       "    </tr>\n",
       "    <tr>\n",
       "      <th>2</th>\n",
       "      <td>ERNO</td>\n",
       "      <td>0.6813</td>\n",
       "      <td>0.3187</td>\n",
       "    </tr>\n",
       "    <tr>\n",
       "      <th>3</th>\n",
       "      <td>NEIN</td>\n",
       "      <td>0.9945</td>\n",
       "      <td>0.0055</td>\n",
       "    </tr>\n",
       "    <tr>\n",
       "      <th>4</th>\n",
       "      <td>ASSET</td>\n",
       "      <td>0.9948</td>\n",
       "      <td>0.0052</td>\n",
       "    </tr>\n",
       "    <tr>\n",
       "      <th>5</th>\n",
       "      <td>AGE</td>\n",
       "      <td>0.8971</td>\n",
       "      <td>0.1029</td>\n",
       "    </tr>\n",
       "    <tr>\n",
       "      <th>6</th>\n",
       "      <td>DEP</td>\n",
       "      <td>0.7790</td>\n",
       "      <td>0.2210</td>\n",
       "    </tr>\n",
       "    <tr>\n",
       "      <th>7</th>\n",
       "      <td>SCHOOL</td>\n",
       "      <td>0.9606</td>\n",
       "      <td>0.0394</td>\n",
       "    </tr>\n",
       "  </tbody>\n",
       "</table>\n",
       "</div>"
      ],
      "text/plain": [
       "  Dependent Variable  R2 value  Tolerance (TOL) = 1- R2\n",
       "0               RATE    0.9415                   0.0585\n",
       "1               ERSP    0.7142                   0.2858\n",
       "2               ERNO    0.6813                   0.3187\n",
       "3               NEIN    0.9945                   0.0055\n",
       "4              ASSET    0.9948                   0.0052\n",
       "5                AGE    0.8971                   0.1029\n",
       "6                DEP    0.7790                   0.2210\n",
       "7             SCHOOL    0.9606                   0.0394"
      ]
     },
     "execution_count": 143,
     "metadata": {},
     "output_type": "execute_result"
    }
   ],
   "source": [
    "hourwork_aux.round(4)"
   ]
  },
  {
   "cell_type": "markdown",
   "id": "f41abf67",
   "metadata": {},
   "source": [
    "## d. If there is the multicollinearity problem, what remedial action, if any, would you take?"
   ]
  },
  {
   "cell_type": "markdown",
   "id": "8f598ece",
   "metadata": {},
   "source": [
    "One of the things that can be done is removing Rate, Nein, Asset, Age and School as indpendent variables, because they have very high VIF value, removing them might reduce the multicollinearity among the variables.\n",
    "Also these variables R^2 value is higher than the model's R^2"
   ]
  },
  {
   "cell_type": "markdown",
   "id": "8928b0ef",
   "metadata": {},
   "source": [
    "## e. What does this study tell about the feasibility of a negative income tax?"
   ]
  },
  {
   "cell_type": "markdown",
   "id": "af1777b0",
   "metadata": {},
   "source": [
    "Negative income is feasible for such nation where income level of people are low. Negative income tax means upto certain low level of income government does not charge tax and even give some money to raise the standard of living. And once such person's income increases, he/she starts paying taxes.\n",
    "Such regime can help in income equality, because of its progressive nature. Also it will help those people who works for so many hours yet does not earn much money."
   ]
  },
  {
   "cell_type": "markdown",
   "id": "05a621b6",
   "metadata": {},
   "source": [
    "# Exercise 2"
   ]
  },
  {
   "cell_type": "markdown",
   "id": "241b073b",
   "metadata": {},
   "source": [
    "## a. Compute the multiple regression of per capita consumption of gasoline on per capita income, the price of gasoline, the other prices, and a time trend. Report all results. Do the signs of the estimates agree with your expectations?"
   ]
  },
  {
   "cell_type": "code",
   "execution_count": 144,
   "id": "91711406",
   "metadata": {},
   "outputs": [],
   "source": [
    "gl=pd.read_csv('gasoline.csv')"
   ]
  },
  {
   "cell_type": "code",
   "execution_count": 145,
   "id": "4b39d2f5",
   "metadata": {},
   "outputs": [
    {
     "data": {
      "text/html": [
       "<div>\n",
       "<style scoped>\n",
       "    .dataframe tbody tr th:only-of-type {\n",
       "        vertical-align: middle;\n",
       "    }\n",
       "\n",
       "    .dataframe tbody tr th {\n",
       "        vertical-align: top;\n",
       "    }\n",
       "\n",
       "    .dataframe thead th {\n",
       "        text-align: right;\n",
       "    }\n",
       "</style>\n",
       "<table border=\"1\" class=\"dataframe\">\n",
       "  <thead>\n",
       "    <tr style=\"text-align: right;\">\n",
       "      <th></th>\n",
       "      <th>YEAR</th>\n",
       "      <th>GASEXP</th>\n",
       "      <th>POP</th>\n",
       "      <th>GASP</th>\n",
       "      <th>INCOME</th>\n",
       "      <th>PNC</th>\n",
       "      <th>PUC</th>\n",
       "      <th>PPT</th>\n",
       "      <th>PD</th>\n",
       "      <th>PN</th>\n",
       "      <th>PS</th>\n",
       "    </tr>\n",
       "  </thead>\n",
       "  <tbody>\n",
       "    <tr>\n",
       "      <th>0</th>\n",
       "      <td>1953</td>\n",
       "      <td>7.4</td>\n",
       "      <td>159565</td>\n",
       "      <td>16.668</td>\n",
       "      <td>8883</td>\n",
       "      <td>47.2</td>\n",
       "      <td>26.7</td>\n",
       "      <td>16.8</td>\n",
       "      <td>37.7</td>\n",
       "      <td>29.7</td>\n",
       "      <td>19.4</td>\n",
       "    </tr>\n",
       "    <tr>\n",
       "      <th>1</th>\n",
       "      <td>1954</td>\n",
       "      <td>7.8</td>\n",
       "      <td>162391</td>\n",
       "      <td>17.029</td>\n",
       "      <td>8685</td>\n",
       "      <td>46.5</td>\n",
       "      <td>22.7</td>\n",
       "      <td>18.0</td>\n",
       "      <td>36.8</td>\n",
       "      <td>29.7</td>\n",
       "      <td>20.0</td>\n",
       "    </tr>\n",
       "    <tr>\n",
       "      <th>2</th>\n",
       "      <td>1955</td>\n",
       "      <td>8.6</td>\n",
       "      <td>165275</td>\n",
       "      <td>17.210</td>\n",
       "      <td>9137</td>\n",
       "      <td>44.8</td>\n",
       "      <td>21.5</td>\n",
       "      <td>18.5</td>\n",
       "      <td>36.1</td>\n",
       "      <td>29.5</td>\n",
       "      <td>20.4</td>\n",
       "    </tr>\n",
       "    <tr>\n",
       "      <th>3</th>\n",
       "      <td>1956</td>\n",
       "      <td>9.4</td>\n",
       "      <td>168221</td>\n",
       "      <td>17.729</td>\n",
       "      <td>9436</td>\n",
       "      <td>46.1</td>\n",
       "      <td>20.7</td>\n",
       "      <td>19.2</td>\n",
       "      <td>36.1</td>\n",
       "      <td>29.9</td>\n",
       "      <td>20.9</td>\n",
       "    </tr>\n",
       "    <tr>\n",
       "      <th>4</th>\n",
       "      <td>1957</td>\n",
       "      <td>10.2</td>\n",
       "      <td>171274</td>\n",
       "      <td>18.497</td>\n",
       "      <td>9534</td>\n",
       "      <td>48.5</td>\n",
       "      <td>23.2</td>\n",
       "      <td>19.9</td>\n",
       "      <td>37.2</td>\n",
       "      <td>30.9</td>\n",
       "      <td>21.8</td>\n",
       "    </tr>\n",
       "  </tbody>\n",
       "</table>\n",
       "</div>"
      ],
      "text/plain": [
       "   YEAR  GASEXP     POP    GASP  INCOME   PNC   PUC   PPT    PD    PN   PS \n",
       "0  1953     7.4  159565  16.668    8883  47.2  26.7  16.8  37.7  29.7  19.4\n",
       "1  1954     7.8  162391  17.029    8685  46.5  22.7  18.0  36.8  29.7  20.0\n",
       "2  1955     8.6  165275  17.210    9137  44.8  21.5  18.5  36.1  29.5  20.4\n",
       "3  1956     9.4  168221  17.729    9436  46.1  20.7  19.2  36.1  29.9  20.9\n",
       "4  1957    10.2  171274  18.497    9534  48.5  23.2  19.9  37.2  30.9  21.8"
      ]
     },
     "execution_count": 145,
     "metadata": {},
     "output_type": "execute_result"
    }
   ],
   "source": [
    "gl.head()"
   ]
  },
  {
   "cell_type": "code",
   "execution_count": 152,
   "id": "91671d6f",
   "metadata": {},
   "outputs": [],
   "source": [
    "gltr=gl['GASEXP']/(gl['GASP']*gl['POP'])\n",
    "\n",
    "gl=gl.assign(gltr=gltr)\n",
    "\n",
    "gl_y=gl[['gltr']].copy()\n",
    "\n",
    "gl_x=gl.drop(['GASEXP','POP','gltr'],axis=1)\n",
    "gl_x1=gl_x.assign(constant=1)"
   ]
  },
  {
   "cell_type": "code",
   "execution_count": 153,
   "id": "0ac261eb",
   "metadata": {
    "scrolled": false
   },
   "outputs": [
    {
     "name": "stdout",
     "output_type": "stream",
     "text": [
      "                            OLS Regression Results                            \n",
      "==============================================================================\n",
      "Dep. Variable:                   gltr   R-squared:                       0.991\n",
      "Model:                            OLS   Adj. R-squared:                  0.989\n",
      "Method:                 Least Squares   F-statistic:                     530.8\n",
      "Date:                Sat, 28 Jan 2023   Prob (F-statistic):           2.81e-40\n",
      "Time:                        19:34:12   Log-Likelihood:                 765.45\n",
      "No. Observations:                  52   AIC:                            -1511.\n",
      "Df Residuals:                      42   BIC:                            -1491.\n",
      "Df Model:                           9                                         \n",
      "Covariance Type:            nonrobust                                         \n",
      "==============================================================================\n",
      "                 coef    std err          t      P>|t|      [0.025      0.975]\n",
      "------------------------------------------------------------------------------\n",
      "YEAR         7.25e-08   1.42e-08      5.112      0.000    4.39e-08    1.01e-07\n",
      "GASP       -1.108e-08   3.98e-09     -2.786      0.008   -1.91e-08   -3.06e-09\n",
      "INCOME      2.157e-10   5.18e-11      4.168      0.000    1.11e-10     3.2e-10\n",
      "PNC         5.773e-10   1.28e-08      0.045      0.964   -2.53e-08    2.65e-08\n",
      "PUC        -5.875e-09   4.87e-09     -1.206      0.234   -1.57e-08    3.95e-09\n",
      "PPT         6.907e-09   4.84e-09      1.428      0.161   -2.85e-09    1.67e-08\n",
      "PD          1.229e-09   1.19e-08      0.103      0.918   -2.27e-08    2.52e-08\n",
      "PN          1.269e-08   1.26e-08      1.007      0.320   -1.27e-08    3.81e-08\n",
      "PS         -2.803e-08      8e-09     -3.505      0.001   -4.42e-08   -1.19e-08\n",
      "constant      -0.0001   2.72e-05     -5.163      0.000      -0.000   -8.55e-05\n",
      "==============================================================================\n",
      "Omnibus:                        3.163   Durbin-Watson:                   0.759\n",
      "Prob(Omnibus):                  0.206   Jarque-Bera (JB):                2.655\n",
      "Skew:                          -0.440   Prob(JB):                        0.265\n",
      "Kurtosis:                       2.329   Cond. No.                     3.20e+07\n",
      "==============================================================================\n",
      "\n",
      "Notes:\n",
      "[1] Standard Errors assume that the covariance matrix of the errors is correctly specified.\n",
      "[2] The condition number is large, 3.2e+07. This might indicate that there are\n",
      "strong multicollinearity or other numerical problems.\n"
     ]
    }
   ],
   "source": [
    "model = sm.OLS(gl_y, gl_x1)\n",
    "results = model.fit()\n",
    "print(results.summary())"
   ]
  },
  {
   "cell_type": "markdown",
   "id": "490c2376",
   "metadata": {},
   "source": [
    "### Some of the esimates does meet the expectation like year coefficient is positive which means the per capita consumption increased with the number of years. \n",
    "### Also there is negative relation between per capita consumption and price of gasoline, which it got cheaper with more consmption."
   ]
  },
  {
   "cell_type": "markdown",
   "id": "4a90ddb0",
   "metadata": {},
   "source": [
    "## b. Test the hypothesis that at least in regard to demand for gasoline, consumers do not differentiate between changes in the prices of new and used cars."
   ]
  },
  {
   "cell_type": "code",
   "execution_count": 154,
   "id": "ae1bc781",
   "metadata": {},
   "outputs": [
    {
     "name": "stdout",
     "output_type": "stream",
     "text": [
      "t-statistic:  [1.11595741]\n",
      "p-value:  [0.2670625]\n",
      "We fail to reject the null hypothesis\n",
      "The means of the two samples are equal\n"
     ]
    }
   ],
   "source": [
    "import numpy as np\n",
    "from scipy.stats import ttest_ind\n",
    "\n",
    "data1 = gl[['PNC']].copy()\n",
    "data2 = gl[['PUC']].copy()\n",
    "\n",
    "null_hypothesis = \"The means of the two samples are equal\"\n",
    "alternative_hypothesis = \"The means of the two samples are not equal\"\n",
    "\n",
    "t_statistic, p_value = ttest_ind(data1, data2)\n",
    "\n",
    "print(\"t-statistic: \", t_statistic)\n",
    "print(\"p-value: \", p_value)\n",
    "\n",
    "alpha = 0.05\n",
    "if p_value < alpha:\n",
    "    print(\"We reject the null hypothesis\")\n",
    "    print(alternative_hypothesis)\n",
    "else:\n",
    "    print(\"We fail to reject the null hypothesis\")\n",
    "    print(null_hypothesis)"
   ]
  },
  {
   "cell_type": "markdown",
   "id": "4520ec34",
   "metadata": {},
   "source": []
  },
  {
   "cell_type": "markdown",
   "id": "85976f91",
   "metadata": {},
   "source": [
    "### So from above hypothesis testing we can conclude that in regard to demand for gasoline, consumers do not differentiate between changes in the prices for new and used cars."
   ]
  },
  {
   "cell_type": "markdown",
   "id": "6b641e30",
   "metadata": {},
   "source": [
    "## c. Compute the simple correlations of the price variables. Would you conclude that multicollinearity is a problem for the regression in part a?"
   ]
  },
  {
   "cell_type": "code",
   "execution_count": 156,
   "id": "6a3d3707",
   "metadata": {},
   "outputs": [
    {
     "data": {
      "text/html": [
       "<div>\n",
       "<style scoped>\n",
       "    .dataframe tbody tr th:only-of-type {\n",
       "        vertical-align: middle;\n",
       "    }\n",
       "\n",
       "    .dataframe tbody tr th {\n",
       "        vertical-align: top;\n",
       "    }\n",
       "\n",
       "    .dataframe thead th {\n",
       "        text-align: right;\n",
       "    }\n",
       "</style>\n",
       "<table border=\"1\" class=\"dataframe\">\n",
       "  <thead>\n",
       "    <tr style=\"text-align: right;\">\n",
       "      <th></th>\n",
       "      <th>YEAR</th>\n",
       "      <th>GASEXP</th>\n",
       "      <th>POP</th>\n",
       "      <th>GASP</th>\n",
       "      <th>INCOME</th>\n",
       "      <th>PNC</th>\n",
       "      <th>PUC</th>\n",
       "      <th>PPT</th>\n",
       "      <th>PD</th>\n",
       "      <th>PN</th>\n",
       "      <th>PS</th>\n",
       "      <th>gltr</th>\n",
       "    </tr>\n",
       "  </thead>\n",
       "  <tbody>\n",
       "    <tr>\n",
       "      <th>0</th>\n",
       "      <td>1953</td>\n",
       "      <td>7.4</td>\n",
       "      <td>159565</td>\n",
       "      <td>16.668</td>\n",
       "      <td>8883</td>\n",
       "      <td>47.2</td>\n",
       "      <td>26.7</td>\n",
       "      <td>16.8</td>\n",
       "      <td>37.7</td>\n",
       "      <td>29.7</td>\n",
       "      <td>19.4</td>\n",
       "      <td>0.000003</td>\n",
       "    </tr>\n",
       "    <tr>\n",
       "      <th>1</th>\n",
       "      <td>1954</td>\n",
       "      <td>7.8</td>\n",
       "      <td>162391</td>\n",
       "      <td>17.029</td>\n",
       "      <td>8685</td>\n",
       "      <td>46.5</td>\n",
       "      <td>22.7</td>\n",
       "      <td>18.0</td>\n",
       "      <td>36.8</td>\n",
       "      <td>29.7</td>\n",
       "      <td>20.0</td>\n",
       "      <td>0.000003</td>\n",
       "    </tr>\n",
       "    <tr>\n",
       "      <th>2</th>\n",
       "      <td>1955</td>\n",
       "      <td>8.6</td>\n",
       "      <td>165275</td>\n",
       "      <td>17.210</td>\n",
       "      <td>9137</td>\n",
       "      <td>44.8</td>\n",
       "      <td>21.5</td>\n",
       "      <td>18.5</td>\n",
       "      <td>36.1</td>\n",
       "      <td>29.5</td>\n",
       "      <td>20.4</td>\n",
       "      <td>0.000003</td>\n",
       "    </tr>\n",
       "    <tr>\n",
       "      <th>3</th>\n",
       "      <td>1956</td>\n",
       "      <td>9.4</td>\n",
       "      <td>168221</td>\n",
       "      <td>17.729</td>\n",
       "      <td>9436</td>\n",
       "      <td>46.1</td>\n",
       "      <td>20.7</td>\n",
       "      <td>19.2</td>\n",
       "      <td>36.1</td>\n",
       "      <td>29.9</td>\n",
       "      <td>20.9</td>\n",
       "      <td>0.000003</td>\n",
       "    </tr>\n",
       "    <tr>\n",
       "      <th>4</th>\n",
       "      <td>1957</td>\n",
       "      <td>10.2</td>\n",
       "      <td>171274</td>\n",
       "      <td>18.497</td>\n",
       "      <td>9534</td>\n",
       "      <td>48.5</td>\n",
       "      <td>23.2</td>\n",
       "      <td>19.9</td>\n",
       "      <td>37.2</td>\n",
       "      <td>30.9</td>\n",
       "      <td>21.8</td>\n",
       "      <td>0.000003</td>\n",
       "    </tr>\n",
       "  </tbody>\n",
       "</table>\n",
       "</div>"
      ],
      "text/plain": [
       "   YEAR  GASEXP     POP    GASP  INCOME   PNC   PUC   PPT    PD    PN   PS   \\\n",
       "0  1953     7.4  159565  16.668    8883  47.2  26.7  16.8  37.7  29.7  19.4   \n",
       "1  1954     7.8  162391  17.029    8685  46.5  22.7  18.0  36.8  29.7  20.0   \n",
       "2  1955     8.6  165275  17.210    9137  44.8  21.5  18.5  36.1  29.5  20.4   \n",
       "3  1956     9.4  168221  17.729    9436  46.1  20.7  19.2  36.1  29.9  20.9   \n",
       "4  1957    10.2  171274  18.497    9534  48.5  23.2  19.9  37.2  30.9  21.8   \n",
       "\n",
       "       gltr  \n",
       "0  0.000003  \n",
       "1  0.000003  \n",
       "2  0.000003  \n",
       "3  0.000003  \n",
       "4  0.000003  "
      ]
     },
     "execution_count": 156,
     "metadata": {},
     "output_type": "execute_result"
    }
   ],
   "source": [
    "gl.head()"
   ]
  },
  {
   "cell_type": "code",
   "execution_count": 163,
   "id": "be60b034",
   "metadata": {},
   "outputs": [],
   "source": [
    "columns_drop=['YEAR','GASEXP','POP','INCOME','gltr']\n",
    "gl_u=gl.drop(columns_drop,axis=1)"
   ]
  },
  {
   "cell_type": "code",
   "execution_count": 164,
   "id": "af1514a8",
   "metadata": {
    "scrolled": true
   },
   "outputs": [
    {
     "data": {
      "text/html": [
       "<div>\n",
       "<style scoped>\n",
       "    .dataframe tbody tr th:only-of-type {\n",
       "        vertical-align: middle;\n",
       "    }\n",
       "\n",
       "    .dataframe tbody tr th {\n",
       "        vertical-align: top;\n",
       "    }\n",
       "\n",
       "    .dataframe thead th {\n",
       "        text-align: right;\n",
       "    }\n",
       "</style>\n",
       "<table border=\"1\" class=\"dataframe\">\n",
       "  <thead>\n",
       "    <tr style=\"text-align: right;\">\n",
       "      <th></th>\n",
       "      <th>GASP</th>\n",
       "      <th>PNC</th>\n",
       "      <th>PUC</th>\n",
       "      <th>PPT</th>\n",
       "      <th>PD</th>\n",
       "      <th>PN</th>\n",
       "      <th>PS</th>\n",
       "    </tr>\n",
       "  </thead>\n",
       "  <tbody>\n",
       "    <tr>\n",
       "      <th>GASP</th>\n",
       "      <td>1.000000</td>\n",
       "      <td>0.936053</td>\n",
       "      <td>0.922767</td>\n",
       "      <td>0.927014</td>\n",
       "      <td>0.938936</td>\n",
       "      <td>0.962672</td>\n",
       "      <td>0.939353</td>\n",
       "    </tr>\n",
       "    <tr>\n",
       "      <th>PNC</th>\n",
       "      <td>0.936053</td>\n",
       "      <td>1.000000</td>\n",
       "      <td>0.993874</td>\n",
       "      <td>0.980736</td>\n",
       "      <td>0.993266</td>\n",
       "      <td>0.988529</td>\n",
       "      <td>0.978490</td>\n",
       "    </tr>\n",
       "    <tr>\n",
       "      <th>PUC</th>\n",
       "      <td>0.922767</td>\n",
       "      <td>0.993874</td>\n",
       "      <td>1.000000</td>\n",
       "      <td>0.982421</td>\n",
       "      <td>0.987832</td>\n",
       "      <td>0.982195</td>\n",
       "      <td>0.976852</td>\n",
       "    </tr>\n",
       "    <tr>\n",
       "      <th>PPT</th>\n",
       "      <td>0.927014</td>\n",
       "      <td>0.980736</td>\n",
       "      <td>0.982421</td>\n",
       "      <td>1.000000</td>\n",
       "      <td>0.958468</td>\n",
       "      <td>0.989863</td>\n",
       "      <td>0.997515</td>\n",
       "    </tr>\n",
       "    <tr>\n",
       "      <th>PD</th>\n",
       "      <td>0.938936</td>\n",
       "      <td>0.993266</td>\n",
       "      <td>0.987832</td>\n",
       "      <td>0.958468</td>\n",
       "      <td>1.000000</td>\n",
       "      <td>0.977343</td>\n",
       "      <td>0.956326</td>\n",
       "    </tr>\n",
       "    <tr>\n",
       "      <th>PN</th>\n",
       "      <td>0.962672</td>\n",
       "      <td>0.988529</td>\n",
       "      <td>0.982195</td>\n",
       "      <td>0.989863</td>\n",
       "      <td>0.977343</td>\n",
       "      <td>1.000000</td>\n",
       "      <td>0.993584</td>\n",
       "    </tr>\n",
       "    <tr>\n",
       "      <th>PS</th>\n",
       "      <td>0.939353</td>\n",
       "      <td>0.978490</td>\n",
       "      <td>0.976852</td>\n",
       "      <td>0.997515</td>\n",
       "      <td>0.956326</td>\n",
       "      <td>0.993584</td>\n",
       "      <td>1.000000</td>\n",
       "    </tr>\n",
       "  </tbody>\n",
       "</table>\n",
       "</div>"
      ],
      "text/plain": [
       "          GASP       PNC       PUC       PPT        PD        PN       PS \n",
       "GASP  1.000000  0.936053  0.922767  0.927014  0.938936  0.962672  0.939353\n",
       "PNC   0.936053  1.000000  0.993874  0.980736  0.993266  0.988529  0.978490\n",
       "PUC   0.922767  0.993874  1.000000  0.982421  0.987832  0.982195  0.976852\n",
       "PPT   0.927014  0.980736  0.982421  1.000000  0.958468  0.989863  0.997515\n",
       "PD    0.938936  0.993266  0.987832  0.958468  1.000000  0.977343  0.956326\n",
       "PN    0.962672  0.988529  0.982195  0.989863  0.977343  1.000000  0.993584\n",
       "PS    0.939353  0.978490  0.976852  0.997515  0.956326  0.993584  1.000000"
      ]
     },
     "execution_count": 164,
     "metadata": {},
     "output_type": "execute_result"
    }
   ],
   "source": [
    "gl_u.iloc[:,0:].corr()"
   ]
  },
  {
   "cell_type": "markdown",
   "id": "a1636601",
   "metadata": {},
   "source": [
    "### This correlation indicates that all the price variables are correlated which means there is multicollinearity in this data, which must have caused problem in the regression that we have done."
   ]
  },
  {
   "cell_type": "code",
   "execution_count": null,
   "id": "169e3b6b",
   "metadata": {},
   "outputs": [],
   "source": []
  }
 ],
 "metadata": {
  "kernelspec": {
   "display_name": "Python 3 (ipykernel)",
   "language": "python",
   "name": "python3"
  },
  "language_info": {
   "codemirror_mode": {
    "name": "ipython",
    "version": 3
   },
   "file_extension": ".py",
   "mimetype": "text/x-python",
   "name": "python",
   "nbconvert_exporter": "python",
   "pygments_lexer": "ipython3",
   "version": "3.9.13"
  }
 },
 "nbformat": 4,
 "nbformat_minor": 5
}
