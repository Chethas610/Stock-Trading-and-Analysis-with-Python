{
 "cells": [
  {
   "cell_type": "markdown",
   "id": "f1178c71-8e3a-45a0-8fac-4469c8789939",
   "metadata": {},
   "source": [
    "# Notebook Instructions\n",
    "\n",
    "1. If you are new to Jupyter notebooks, please go through this introductory manual <a href='https://quantra.quantinsti.com/quantra-notebook' target=\"_blank\">here</a>.\n",
    "1. Any changes made in this notebook would be lost after you close the browser window. **You can download the notebook to save your work on your PC.**\n",
    "1. Before running this notebook on your local PC:<br>\n",
    "i.  You need to set up a Python environment and the relevant packages on your local PC. To do so, go through the section on \"**Run Codes Locally on Your Machine**\" in the course.<br>\n",
    "ii. You need to **download the zip file available in the last unit** of this course. The zip file contains the data files and/or python modules that might be required to run this notebook."
   ]
  },
  {
   "cell_type": "markdown",
   "id": "b496d7e2",
   "metadata": {},
   "source": [
    "# Lists\n",
    "\n",
    "Lists in Python, are used to store heterogeneous types of data. Lists are mutable i.e. one can change the content within a list, without changing its identity.\n",
    "\n",
    "## Creating lists\n",
    "List is enclosed by square brackets and elements should be separated by a comma."
   ]
  },
  {
   "cell_type": "code",
   "execution_count": 1,
   "id": "5b136fde",
   "metadata": {},
   "outputs": [
    {
     "data": {
      "text/plain": [
       "list"
      ]
     },
     "execution_count": 1,
     "metadata": {},
     "output_type": "execute_result"
    }
   ],
   "source": [
    "new_list = []  # Empty List\n",
    "type(new_list)"
   ]
  },
  {
   "cell_type": "code",
   "execution_count": 2,
   "id": "cdf874e0",
   "metadata": {},
   "outputs": [
    {
     "data": {
      "text/plain": [
       "list"
      ]
     },
     "execution_count": 2,
     "metadata": {},
     "output_type": "execute_result"
    }
   ],
   "source": [
    "new_list = [10, 20, 30, 40]  # A list of integers\n",
    "type(new_list)"
   ]
  },
  {
   "cell_type": "code",
   "execution_count": 3,
   "id": "2ff79819",
   "metadata": {},
   "outputs": [
    {
     "data": {
      "text/plain": [
       "list"
      ]
     },
     "execution_count": 3,
     "metadata": {},
     "output_type": "execute_result"
    }
   ],
   "source": [
    "new_list = [10, 20.2, \"thirty\", 40]  # A list of mixed data types\n",
    "type(new_list)"
   ]
  },
  {
   "cell_type": "code",
   "execution_count": 4,
   "id": "be3e3390",
   "metadata": {},
   "outputs": [
    {
     "data": {
      "text/plain": [
       "list"
      ]
     },
     "execution_count": 4,
     "metadata": {},
     "output_type": "execute_result"
    }
   ],
   "source": [
    "new_list = [[10, 20, 30], [10.1, 20.2, 30.3], [\n",
    "    \"ten\", \"twenty\", \"thirty\"]]  # A nested list\n",
    "type(new_list)"
   ]
  },
  {
   "cell_type": "code",
   "execution_count": 5,
   "id": "9ca7e5cf",
   "metadata": {},
   "outputs": [
    {
     "data": {
      "text/plain": [
       "list"
      ]
     },
     "execution_count": 5,
     "metadata": {},
     "output_type": "execute_result"
    }
   ],
   "source": [
    "new_list = [10, [20.2, [\"thirty\", [40]]]]  # A deeply nested list\n",
    "type(new_list)"
   ]
  },
  {
   "cell_type": "markdown",
   "id": "cc567886",
   "metadata": {},
   "source": [
    "## Different methods for list manipulation\n",
    "Let us have a look at few of the methods, with which we can manipulate lists.<br>\n",
    "<br>\n",
    "Please Note: A function or a method is a block of code which is used to perform a single task or a set of tasks repeatedly."
   ]
  },
  {
   "cell_type": "code",
   "execution_count": 6,
   "id": "e7eee291",
   "metadata": {},
   "outputs": [
    {
     "name": "stdout",
     "output_type": "stream",
     "text": [
      "[10, 20, 30, 40]\n"
     ]
    }
   ],
   "source": [
    "my_list = [10,20,30,40] # This is the 'original' list which you have cerated \n",
    "\n",
    "print (my_list)"
   ]
  },
  {
   "cell_type": "markdown",
   "id": "bc8fb237",
   "metadata": {},
   "source": [
    "list.<b>append</b> (x) <br>\n",
    "Add an item to the end of the list."
   ]
  },
  {
   "cell_type": "code",
   "execution_count": 7,
   "id": "b90ecee1",
   "metadata": {},
   "outputs": [
    {
     "name": "stdout",
     "output_type": "stream",
     "text": [
      "[10, 20, 30, 40, 50]\n"
     ]
    }
   ],
   "source": [
    "my_list.append(50)\n",
    "\n",
    "print(my_list)"
   ]
  },
  {
   "cell_type": "markdown",
   "id": "1de1d500",
   "metadata": {},
   "source": [
    "list.<b>extend</b> (x) <br>\n",
    "Extend the list by appending all the items at the end of the list."
   ]
  },
  {
   "cell_type": "code",
   "execution_count": 8,
   "id": "61241bae",
   "metadata": {},
   "outputs": [
    {
     "name": "stdout",
     "output_type": "stream",
     "text": [
      "[10, 20, 30, 40, 50, 60, 70, 80, 90]\n"
     ]
    }
   ],
   "source": [
    "my_list.extend([60, 70, 80, 90])\n",
    "\n",
    "print(my_list)"
   ]
  },
  {
   "cell_type": "markdown",
   "id": "6fc9eb57",
   "metadata": {},
   "source": [
    "list.<b>insert</b> (i,x) <br>\n",
    "Insert an item at any given position within the list. The first argument 'i', is the index of the item before which you want to insert something. To insert something at the beginning of the list, you may type list.insert (0,x)"
   ]
  },
  {
   "cell_type": "code",
   "execution_count": 9,
   "id": "29a48465",
   "metadata": {},
   "outputs": [
    {
     "name": "stdout",
     "output_type": "stream",
     "text": [
      "[0, 10, 20, 30, 40, 50, 60, 70, 80, 90]\n"
     ]
    }
   ],
   "source": [
    "# Inserting an item in the beginning\n",
    "my_list.insert(0, 0)\n",
    "\n",
    "print(my_list)"
   ]
  },
  {
   "cell_type": "code",
   "execution_count": 10,
   "id": "455c9d1a",
   "metadata": {},
   "outputs": [
    {
     "name": "stdout",
     "output_type": "stream",
     "text": [
      "[0, 10, 20, 30, 40, 50, 60, 70, 80, 90, 100]\n"
     ]
    }
   ],
   "source": [
    "# Inserting an item at the end or at the integer location of 10 in this case\n",
    "my_list.insert(10, 100)\n",
    "\n",
    "print(my_list)"
   ]
  },
  {
   "cell_type": "code",
   "execution_count": 11,
   "id": "7c78fcb2",
   "metadata": {},
   "outputs": [
    {
     "name": "stdout",
     "output_type": "stream",
     "text": [
      "[0, 10, 20, 30, 40, 50, 55, 60, 70, 80, 90, 100]\n"
     ]
    }
   ],
   "source": [
    "# Inserting an item at the 6th position in a list\n",
    "my_list.insert(6, 55)\n",
    "\n",
    "print(my_list)"
   ]
  },
  {
   "cell_type": "markdown",
   "id": "9568bc2b",
   "metadata": {},
   "source": [
    "list.<b>remove</b> (x)<br>\n",
    "Remove the first item from the list whose value is 'x'. It is an error if there is no such item."
   ]
  },
  {
   "cell_type": "code",
   "execution_count": 12,
   "id": "610de604",
   "metadata": {},
   "outputs": [
    {
     "name": "stdout",
     "output_type": "stream",
     "text": [
      "[10, 20, 30, 40, 50, 55, 60, 70, 80, 90, 100]\n"
     ]
    }
   ],
   "source": [
    "my_list.remove(0)\n",
    "\n",
    "print(my_list)"
   ]
  },
  {
   "cell_type": "markdown",
   "id": "ecf9a86e",
   "metadata": {},
   "source": [
    "list.<b>pop</b> (i) <br>\n",
    "Remove any item from any given position (index) in the list. If no index is specified, it removes and returns the last element from the list."
   ]
  },
  {
   "cell_type": "code",
   "execution_count": 13,
   "id": "2e1c406e",
   "metadata": {},
   "outputs": [
    {
     "data": {
      "text/plain": [
       "55"
      ]
     },
     "execution_count": 13,
     "metadata": {},
     "output_type": "execute_result"
    }
   ],
   "source": [
    "# Removes and returns the '5th' element from the list\n",
    "my_list.pop(5)"
   ]
  },
  {
   "cell_type": "code",
   "execution_count": 14,
   "id": "e7adb76f",
   "metadata": {},
   "outputs": [
    {
     "name": "stdout",
     "output_type": "stream",
     "text": [
      "[10, 20, 30, 40, 50, 60, 70, 80, 90, 100]\n"
     ]
    }
   ],
   "source": [
    "print(my_list)"
   ]
  },
  {
   "cell_type": "code",
   "execution_count": 15,
   "id": "97b29569",
   "metadata": {},
   "outputs": [
    {
     "data": {
      "text/plain": [
       "100"
      ]
     },
     "execution_count": 15,
     "metadata": {},
     "output_type": "execute_result"
    }
   ],
   "source": [
    "# Removes and returns the last element from the list\n",
    "my_list.pop()"
   ]
  },
  {
   "cell_type": "code",
   "execution_count": 16,
   "id": "b6f63e42",
   "metadata": {},
   "outputs": [
    {
     "name": "stdout",
     "output_type": "stream",
     "text": [
      "[10, 20, 30, 40, 50, 60, 70, 80, 90]\n"
     ]
    }
   ],
   "source": [
    "print(my_list)"
   ]
  },
  {
   "cell_type": "markdown",
   "id": "9ad0b64a",
   "metadata": {},
   "source": [
    "list.<b>index</b> (x) <br>\n",
    "It returns a zero-based index in the list of the first item whose value is x. Raises an error of there is no such item as 'x'."
   ]
  },
  {
   "cell_type": "code",
   "execution_count": 17,
   "id": "faa84369",
   "metadata": {},
   "outputs": [
    {
     "data": {
      "text/plain": [
       "4"
      ]
     },
     "execution_count": 17,
     "metadata": {},
     "output_type": "execute_result"
    }
   ],
   "source": [
    "my_list.index(50)"
   ]
  },
  {
   "cell_type": "code",
   "execution_count": 18,
   "id": "af0810d1",
   "metadata": {},
   "outputs": [
    {
     "data": {
      "text/plain": [
       "0"
      ]
     },
     "execution_count": 18,
     "metadata": {},
     "output_type": "execute_result"
    }
   ],
   "source": [
    "my_list.index(10)"
   ]
  },
  {
   "cell_type": "code",
   "execution_count": 19,
   "id": "74d4b144",
   "metadata": {},
   "outputs": [
    {
     "name": "stdout",
     "output_type": "stream",
     "text": [
      "[10, 20, 30, 40, 50, 60, 70, 80, 90]\n"
     ]
    }
   ],
   "source": [
    "print(my_list)"
   ]
  },
  {
   "cell_type": "markdown",
   "id": "062b3520",
   "metadata": {},
   "source": [
    "list.<b>count</b> (x) <br>\n",
    "Returns the number of times 'x' appears in the list"
   ]
  },
  {
   "cell_type": "code",
   "execution_count": 20,
   "id": "93fd60c7",
   "metadata": {},
   "outputs": [
    {
     "data": {
      "text/plain": [
       "3"
      ]
     },
     "execution_count": 20,
     "metadata": {},
     "output_type": "execute_result"
    }
   ],
   "source": [
    "new_list = [10, 10, 10, 20, 30, 40, 50]\n",
    "\n",
    "new_list.count(10)"
   ]
  },
  {
   "cell_type": "markdown",
   "id": "4663205a",
   "metadata": {},
   "source": [
    "list.<b>reverse</b> () <br>\n",
    "It reverses the items of the list."
   ]
  },
  {
   "cell_type": "code",
   "execution_count": 21,
   "id": "4099a468",
   "metadata": {},
   "outputs": [
    {
     "name": "stdout",
     "output_type": "stream",
     "text": [
      "[10, 20, 30, 40, 50, 60, 70, 80, 90]\n"
     ]
    }
   ],
   "source": [
    "print(my_list)"
   ]
  },
  {
   "cell_type": "code",
   "execution_count": 22,
   "id": "6eeca543",
   "metadata": {},
   "outputs": [
    {
     "name": "stdout",
     "output_type": "stream",
     "text": [
      "[90, 80, 70, 60, 50, 40, 30, 20, 10]\n"
     ]
    }
   ],
   "source": [
    "my_list.reverse()\n",
    "\n",
    "print(my_list)"
   ]
  },
  {
   "cell_type": "markdown",
   "id": "577fee06",
   "metadata": {},
   "source": [
    "list.<b>sort</b> () <br>\n",
    "It sorts the items in the list."
   ]
  },
  {
   "cell_type": "code",
   "execution_count": 23,
   "id": "c0a0c522",
   "metadata": {},
   "outputs": [
    {
     "name": "stdout",
     "output_type": "stream",
     "text": [
      "[12, 35, 76, 20, 56, 34, 65]\n"
     ]
    }
   ],
   "source": [
    "new_list = [12, 35, 76, 20, 56, 34, 65]\n",
    "print(new_list)"
   ]
  },
  {
   "cell_type": "code",
   "execution_count": 24,
   "id": "e621648a",
   "metadata": {},
   "outputs": [
    {
     "name": "stdout",
     "output_type": "stream",
     "text": [
      "[12, 20, 34, 35, 56, 65, 76]\n"
     ]
    }
   ],
   "source": [
    "new_list.sort()\n",
    "\n",
    "print(new_list)"
   ]
  },
  {
   "cell_type": "markdown",
   "id": "83aef511",
   "metadata": {},
   "source": [
    "In the upcoming IPython Notebook, we will see how Lists are used as:\n",
    "\n",
    "1. <b>'Stacks'</b>\n",
    "2. <b>'Queues'</b>\n",
    "3. <b>'Graphs'</b>\n",
    "4. <b>'Trees'</b>\n",
    "\n",
    "So, Stay Tuned! <br><br>"
   ]
  }
 ],
 "metadata": {
  "anaconda-cloud": {},
  "kernelspec": {
   "display_name": "Python 3 (ipykernel)",
   "language": "python",
   "name": "python3"
  },
  "language_info": {
   "codemirror_mode": {
    "name": "ipython",
    "version": 3
   },
   "file_extension": ".py",
   "mimetype": "text/x-python",
   "name": "python",
   "nbconvert_exporter": "python",
   "pygments_lexer": "ipython3",
   "version": "3.9.5"
  }
 },
 "nbformat": 4,
 "nbformat_minor": 5
}
