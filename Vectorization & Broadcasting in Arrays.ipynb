{
 "cells": [
  {
   "cell_type": "markdown",
   "id": "f1178c71-8e3a-45a0-8fac-4469c8789939",
   "metadata": {},
   "source": [
    "# Notebook Instructions\n",
    "\n",
    "1. If you are new to Jupyter notebooks, please go through this introductory manual <a href='https://quantra.quantinsti.com/quantra-notebook' target=\"_blank\">here</a>.\n",
    "1. Any changes made in this notebook would be lost after you close the browser window. **You can download the notebook to save your work on your PC.**\n",
    "1. Before running this notebook on your local PC:<br>\n",
    "i.  You need to set up a Python environment and the relevant packages on your local PC. To do so, go through the section on \"**Run Codes Locally on Your Machine**\" in the course.<br>\n",
    "ii. You need to **download the zip file available in the last unit** of this course. The zip file contains the data files and/or python modules that might be required to run this notebook."
   ]
  },
  {
   "cell_type": "markdown",
   "id": "fede2250",
   "metadata": {},
   "source": [
    "# Vectorization\n",
    "\n",
    "Vectorization of code helps us write complex codes in a compact way and execute them faster. \n",
    "\n",
    "It allows to **operate** or apply a function on a complex object, like an array, 'at once' rather than iterating over the individual elements. NumPy efficiently supports vectorization.\n",
    "\n",
    "# Notebook Contents\n",
    "\n",
    "##### <span style=\"color:green\">1) 1D or 2D Array operations with a scalar</span>\n",
    "##### <span style=\"color:green\">2) 2D Array operations with another 2D array</span>\n",
    "##### <span style=\"color:green\">3) 2D Array operations with a 1D array or vector</span>\n",
    "#####  <span style=\"color:green\">4) Other operators: Compare & Logical</span>\n",
    "##### <span style=\"color:green\">5) Just for fun</span>\n",
    "\n",
    "### Array operations with a scalar\n",
    "\n",
    "Every element of the array is added/multiplied/operated with the given scalar. We will discuss:\n",
    "- Addition\n",
    "- Subtraction\n",
    "- Multiplication"
   ]
  },
  {
   "cell_type": "code",
   "execution_count": 1,
   "id": "af5d2169",
   "metadata": {},
   "outputs": [
    {
     "name": "stdout",
     "output_type": "stream",
     "text": [
      "[1.    2.    3.    4.    5.5   6.6   7.123 8.456]\n"
     ]
    }
   ],
   "source": [
    "# Start by importing the package\n",
    "import numpy as np  \n",
    "\n",
    "my_list = [1, 2, 3, 4, 5.5, 6.6, 7.123, 8.456]\n",
    "\n",
    "# Creating a 1D array or vector\n",
    "V = np.array(my_list)  \n",
    "print(V)"
   ]
  },
  {
   "cell_type": "markdown",
   "id": "b9fa1f1b",
   "metadata": {},
   "source": [
    "#### Vectorization using scalars - addition"
   ]
  },
  {
   "cell_type": "code",
   "execution_count": 2,
   "id": "66c63f13",
   "metadata": {},
   "outputs": [
    {
     "name": "stdout",
     "output_type": "stream",
     "text": [
      "[ 3.     4.     5.     6.     7.5    8.6    9.123 10.456]\n"
     ]
    }
   ],
   "source": [
    "# Every element is increased by 2.\n",
    "V_a = V + 2 \n",
    "\n",
    "print(V_a)"
   ]
  },
  {
   "cell_type": "markdown",
   "id": "4a8c4325",
   "metadata": {},
   "source": [
    "#### Vectorization using scalars - subtraction"
   ]
  },
  {
   "cell_type": "code",
   "execution_count": 3,
   "id": "1d4cb6a2",
   "metadata": {},
   "outputs": [
    {
     "name": "stdout",
     "output_type": "stream",
     "text": [
      "[-1.4   -0.4    0.6    1.6    3.1    4.2    4.723  6.056]\n"
     ]
    }
   ],
   "source": [
    "# Every element is reduced by 2.4.\n",
    "V_s = V - 2.4 \n",
    "\n",
    "print(V_s)"
   ]
  },
  {
   "cell_type": "markdown",
   "id": "646f475d",
   "metadata": {},
   "source": [
    "#### Vectorization using scalars - multiplication"
   ]
  },
  {
   "cell_type": "code",
   "execution_count": 4,
   "id": "5f642377",
   "metadata": {},
   "outputs": [
    {
     "name": "stdout",
     "output_type": "stream",
     "text": [
      "[[1 2 3]\n",
      " [4 5 6]\n",
      " [7 8 9]]\n",
      "[[10 20 30]\n",
      " [40 50 60]\n",
      " [70 80 90]]\n"
     ]
    }
   ],
   "source": [
    "# Array of shape 3,3\n",
    "V2 = np.array([[1, 2, 3], [4, 5, 6], [7, 8, 9]])  \n",
    "\n",
    "# Every element is multiplied by 10.\n",
    "V_m = V2 * 10  \n",
    "\n",
    "print(V2)\n",
    "print(V_m)"
   ]
  },
  {
   "cell_type": "markdown",
   "id": "7f84a7d2",
   "metadata": {},
   "source": [
    "#### Try on your own"
   ]
  },
  {
   "cell_type": "code",
   "execution_count": 5,
   "id": "b1040d6e",
   "metadata": {},
   "outputs": [
    {
     "name": "stdout",
     "output_type": "stream",
     "text": [
      "[[ 1  4  9]\n",
      " [16 25 36]\n",
      " [49 64 81]]\n"
     ]
    }
   ],
   "source": [
    "# See the output and suggest what this operation is?\n",
    "V_e = V2 ** 2  \n",
    "\n",
    "print(V_e)"
   ]
  },
  {
   "cell_type": "markdown",
   "id": "7719808b",
   "metadata": {},
   "source": [
    "### 2D Array operations with another 2D array\n",
    "\n",
    "This is only possible when the shape of the two arrays is the same. For example, a (2,2) array can be operated with another (2,2) array. \n"
   ]
  },
  {
   "cell_type": "code",
   "execution_count": 6,
   "id": "aeef8f0f",
   "metadata": {},
   "outputs": [
    {
     "name": "stdout",
     "output_type": "stream",
     "text": [
      "[[  1   2   3]\n",
      " [ 11  22  33]\n",
      " [111 222 333]]\n",
      "[[1. 1. 1.]\n",
      " [1. 1. 1.]\n",
      " [1. 1. 1.]]\n",
      "[[1. 1. 1. 1.]\n",
      " [1. 1. 1. 1.]\n",
      " [1. 1. 1. 1.]\n",
      " [1. 1. 1. 1.]]\n"
     ]
    }
   ],
   "source": [
    "# Array of shape 3,3\n",
    "A = np.array([[1, 2, 3], [11, 22, 33], [111, 222, 333]])  \n",
    "\n",
    "# Array of shape 3,3\n",
    "B = np.ones((3, 3))  \n",
    "\n",
    "# Array of shape 4,4\n",
    "C = np.ones((4, 4))\n",
    "\n",
    "print(A)\n",
    "print(B)\n",
    "print(C)"
   ]
  },
  {
   "cell_type": "code",
   "execution_count": 7,
   "id": "b2ee8349",
   "metadata": {},
   "outputs": [
    {
     "name": "stdout",
     "output_type": "stream",
     "text": [
      "Adding the arrays is element wise: \n",
      "[[  2.   3.   4.]\n",
      " [ 12.  23.  34.]\n",
      " [112. 223. 334.]]\n"
     ]
    }
   ],
   "source": [
    "# Addition of 2 arrays of same dimensions (3, 3)\n",
    "print(\"Adding the arrays is element wise: \")\n",
    "\n",
    "print(A + B)"
   ]
  },
  {
   "cell_type": "code",
   "execution_count": 8,
   "id": "fe8b6765",
   "metadata": {},
   "outputs": [
    {
     "name": "stdout",
     "output_type": "stream",
     "text": [
      "Addition of 2 arrays of different shapes or dimensions will throw a ValueError.\n"
     ]
    },
    {
     "ename": "ValueError",
     "evalue": "operands could not be broadcast together with shapes (3,3) (4,4) ",
     "output_type": "error",
     "traceback": [
      "\u001b[0;31m---------------------------------------------------------------------------\u001b[0m",
      "\u001b[0;31mValueError\u001b[0m                                Traceback (most recent call last)",
      "\u001b[0;32m/tmp/ipykernel_58/3249106367.py\u001b[0m in \u001b[0;36m<module>\u001b[0;34m\u001b[0m\n\u001b[1;32m      2\u001b[0m \u001b[0mprint\u001b[0m\u001b[0;34m(\u001b[0m\u001b[0;34m\"Addition of 2 arrays of different shapes or dimensions will throw a ValueError.\"\u001b[0m\u001b[0;34m)\u001b[0m\u001b[0;34m\u001b[0m\u001b[0;34m\u001b[0m\u001b[0m\n\u001b[1;32m      3\u001b[0m \u001b[0;34m\u001b[0m\u001b[0m\n\u001b[0;32m----> 4\u001b[0;31m \u001b[0mprint\u001b[0m\u001b[0;34m(\u001b[0m\u001b[0mA\u001b[0m \u001b[0;34m+\u001b[0m \u001b[0mC\u001b[0m\u001b[0;34m)\u001b[0m\u001b[0;34m\u001b[0m\u001b[0;34m\u001b[0m\u001b[0m\n\u001b[0m",
      "\u001b[0;31mValueError\u001b[0m: operands could not be broadcast together with shapes (3,3) (4,4) "
     ]
    }
   ],
   "source": [
    "# Addition of 2 arrays of different shapes or dimensions is NOT allowed\n",
    "print(\"Addition of 2 arrays of different shapes or dimensions will throw a ValueError.\")\n",
    "\n",
    "print(A + C)"
   ]
  },
  {
   "cell_type": "code",
   "execution_count": 9,
   "id": "f1ce52a1",
   "metadata": {},
   "outputs": [
    {
     "name": "stdout",
     "output_type": "stream",
     "text": [
      "Subtracting array B from A is element wise: \n",
      "[[  0.   1.   2.]\n",
      " [ 10.  21.  32.]\n",
      " [110. 221. 332.]]\n"
     ]
    }
   ],
   "source": [
    "# Subtraction of 2 arrays\n",
    "print(\"Subtracting array B from A is element wise: \")\n",
    "\n",
    "print(A - B)"
   ]
  },
  {
   "cell_type": "code",
   "execution_count": 10,
   "id": "36389013",
   "metadata": {},
   "outputs": [
    {
     "name": "stdout",
     "output_type": "stream",
     "text": [
      "Array 1 [[1 2 3]\n",
      " [4 5 6]]\n",
      "Array 2 [[ 1  0 -1]\n",
      " [ 0  1 -1]]\n",
      "Multiplying two arrays:  [[ 1  0 -3]\n",
      " [ 0  5 -6]]\n",
      "As you can see above, multiplication happens element by element.\n"
     ]
    }
   ],
   "source": [
    "# Multiplication of 2 arrays\n",
    "\n",
    "# Array of shape 2,3\n",
    "A1 = np.array([[1, 2, 3], [4, 5, 6]])  \n",
    "\n",
    "# Array of shape 2,3\n",
    "A2 = np.array([[1, 0, -1], [0, 1, -1]])  \n",
    "\n",
    "print(\"Array 1\", A1)\n",
    "print(\"Array 2\", A2)\n",
    "print(\"Multiplying two arrays: \", A1 * A2)\n",
    "print(\"As you can see above, multiplication happens element by element.\")"
   ]
  },
  {
   "cell_type": "markdown",
   "id": "d36528b6",
   "metadata": {},
   "source": [
    "You can further try out various combinations yourself in combining scalars and arithmetic operations to get a hand on vectorization.\n",
    "\n",
    "### Broadcasting allows 2D Array operations with a 1D array or vector\n",
    "\n",
    "NumPy also supports broadcasting. Broadcasting allows us to combine objects of <b>different shapes</b> within a single operation.\n",
    "\n",
    "But, do remember that to perform this operation one of the matrices needs to be a vector with its length equal to one of the dimensions of the other matrix."
   ]
  },
  {
   "cell_type": "markdown",
   "id": "68d38ed1",
   "metadata": {},
   "source": [
    "#### Try changing the shape of B and observe the results"
   ]
  },
  {
   "cell_type": "code",
   "execution_count": 11,
   "id": "0248b683",
   "metadata": {},
   "outputs": [
    {
     "name": "stdout",
     "output_type": "stream",
     "text": [
      "[[  1   2   3]\n",
      " [ 11  22  33]\n",
      " [111 222 333]]\n",
      "[1 2 3]\n"
     ]
    }
   ],
   "source": [
    "A = np.array([[1, 2, 3], [11, 22, 33], [111, 222, 333]])\n",
    "B = np.array([1, 2, 3])\n",
    "\n",
    "print(A)\n",
    "print(B)"
   ]
  },
  {
   "cell_type": "code",
   "execution_count": 12,
   "id": "49c8b905",
   "metadata": {},
   "outputs": [
    {
     "name": "stdout",
     "output_type": "stream",
     "text": [
      "Multiplication with broadcasting: \n",
      "[[  1   4   9]\n",
      " [ 11  44  99]\n",
      " [111 444 999]]\n"
     ]
    }
   ],
   "source": [
    "print(\"Multiplication with broadcasting: \")\n",
    "\n",
    "print(A * B)"
   ]
  },
  {
   "cell_type": "code",
   "execution_count": 13,
   "id": "1074927d",
   "metadata": {},
   "outputs": [
    {
     "name": "stdout",
     "output_type": "stream",
     "text": [
      "... and now addition with broadcasting: \n",
      "[[  2   4   6]\n",
      " [ 12  24  36]\n",
      " [112 224 336]]\n"
     ]
    }
   ],
   "source": [
    "print(\"... and now addition with broadcasting: \")\n",
    "\n",
    "print(A + B)"
   ]
  },
  {
   "cell_type": "code",
   "execution_count": 14,
   "id": "83e38b45",
   "metadata": {},
   "outputs": [
    {
     "name": "stdout",
     "output_type": "stream",
     "text": [
      "[[1 2 3 1 2 3 1 2 3]]\n"
     ]
    }
   ],
   "source": [
    "# Try to understand the difference between the two 'B' arrays\n",
    "B = np.array([[1, 2, 3] * 3])\n",
    "\n",
    "print(B)"
   ]
  },
  {
   "cell_type": "code",
   "execution_count": 15,
   "id": "1f067603",
   "metadata": {},
   "outputs": [
    {
     "name": "stdout",
     "output_type": "stream",
     "text": [
      "[[1 2 3]\n",
      " [1 2 3]\n",
      " [1 2 3]]\n"
     ]
    }
   ],
   "source": [
    "B = np.array([[1, 2, 3], ] * 3)\n",
    "\n",
    "print(B)\n",
    "\n",
    "# Hint: look at the brackets"
   ]
  },
  {
   "cell_type": "code",
   "execution_count": 16,
   "id": "00c680bf",
   "metadata": {},
   "outputs": [
    {
     "data": {
      "text/plain": [
       "array([[1],\n",
       "       [2],\n",
       "       [3]])"
      ]
     },
     "execution_count": 16,
     "metadata": {},
     "output_type": "execute_result"
    }
   ],
   "source": [
    "# Another example type\n",
    "B = np.array([1, 2, 3])\n",
    "B[:, np.newaxis]\n",
    "\n",
    "# We have changed a row vector into a column vector"
   ]
  },
  {
   "cell_type": "code",
   "execution_count": 17,
   "id": "72b4a3f2",
   "metadata": {},
   "outputs": [
    {
     "data": {
      "text/plain": [
       "array([[  1,   2,   3],\n",
       "       [ 22,  44,  66],\n",
       "       [333, 666, 999]])"
      ]
     },
     "execution_count": 17,
     "metadata": {},
     "output_type": "execute_result"
    }
   ],
   "source": [
    "# Broadcasting in a different way (by changing the vector shape)\n",
    "A * B[:, np.newaxis]"
   ]
  },
  {
   "cell_type": "code",
   "execution_count": 18,
   "id": "d22c3388",
   "metadata": {},
   "outputs": [
    {
     "data": {
      "text/plain": [
       "array([[10],\n",
       "       [20],\n",
       "       [30]])"
      ]
     },
     "execution_count": 18,
     "metadata": {},
     "output_type": "execute_result"
    }
   ],
   "source": [
    "# This example should be self explanatory by now\n",
    "A = np.array([10, 20, 30])\n",
    "B = np.array([1, 2, 3])\n",
    "A[:, np.newaxis]"
   ]
  },
  {
   "cell_type": "code",
   "execution_count": 19,
   "id": "35208a97",
   "metadata": {},
   "outputs": [
    {
     "data": {
      "text/plain": [
       "array([[10, 20, 30],\n",
       "       [20, 40, 60],\n",
       "       [30, 60, 90]])"
      ]
     },
     "execution_count": 19,
     "metadata": {},
     "output_type": "execute_result"
    }
   ],
   "source": [
    "A[:, np.newaxis] * B"
   ]
  },
  {
   "cell_type": "markdown",
   "id": "3506c514",
   "metadata": {},
   "source": [
    "### Other operations\n",
    "\n",
    "- Comparison operators: Comparing arrays and the elements of two similar shaped arrays\n",
    "- Logical operators: AND/OR operands"
   ]
  },
  {
   "cell_type": "code",
   "execution_count": 20,
   "id": "0f9fe3c6",
   "metadata": {},
   "outputs": [
    {
     "name": "stdout",
     "output_type": "stream",
     "text": [
      "[[11 12 13]\n",
      " [21 22 23]\n",
      " [31 32 33]]\n",
      "[[ 11 102  13]\n",
      " [201  22 203]\n",
      " [ 31  32 303]]\n"
     ]
    }
   ],
   "source": [
    "A = np.array([[11, 12, 13], [21, 22, 23], [31, 32, 33]])\n",
    "B = np.array([[11, 102, 13], [201, 22, 203], [31, 32, 303]])\n",
    "\n",
    "print(A)\n",
    "print(B)"
   ]
  },
  {
   "cell_type": "code",
   "execution_count": 21,
   "id": "25f955c4",
   "metadata": {},
   "outputs": [
    {
     "data": {
      "text/plain": [
       "array([[ True, False,  True],\n",
       "       [False,  True, False],\n",
       "       [ True,  True, False]])"
      ]
     },
     "execution_count": 21,
     "metadata": {},
     "output_type": "execute_result"
    }
   ],
   "source": [
    "# It will compare all the elements of the array with each other\n",
    "A == B"
   ]
  },
  {
   "cell_type": "code",
   "execution_count": 22,
   "id": "b2a17fce",
   "metadata": {},
   "outputs": [
    {
     "name": "stdout",
     "output_type": "stream",
     "text": [
      "False\n",
      "True\n"
     ]
    }
   ],
   "source": [
    "# Will return 'True' only if each and every element is the same in both the arrays\n",
    "print(np.array_equal(A, B))\n",
    "\n",
    "print(np.array_equal(A, A))"
   ]
  },
  {
   "cell_type": "markdown",
   "id": "3a7a0f69",
   "metadata": {},
   "source": [
    "### Logical operators\n",
    "In the image you will find the explanation for `logical_or` and `logical_and`.\n",
    "\n",
    "![](https://d2a032ejo53cab.cloudfront.net/Glossary/fOd6yZzk/Screenshot-2021-11-18-082638.png)"
   ]
  },
  {
   "cell_type": "code",
   "execution_count": 23,
   "id": "2459cc8b",
   "metadata": {},
   "outputs": [
    {
     "name": "stdout",
     "output_type": "stream",
     "text": [
      "[[ True  True]\n",
      " [ True False]]\n"
     ]
    }
   ],
   "source": [
    "# This should be self explanatory by now\n",
    "a = np.array([[True, True], [False, False]])\n",
    "b = np.array([[True, False], [True, False]])\n",
    "\n",
    "print(np.logical_or(a, b))"
   ]
  },
  {
   "cell_type": "code",
   "execution_count": 24,
   "id": "dbbd0d93",
   "metadata": {},
   "outputs": [
    {
     "name": "stdout",
     "output_type": "stream",
     "text": [
      "[[ True False]\n",
      " [False False]]\n"
     ]
    }
   ],
   "source": [
    "print(np.logical_and(a, b))"
   ]
  },
  {
   "cell_type": "markdown",
   "id": "786c048e",
   "metadata": {},
   "source": [
    "This is where we will end our notebooks on NumPy. <br><br>"
   ]
  }
 ],
 "metadata": {
  "anaconda-cloud": {},
  "kernelspec": {
   "display_name": "Python 3 (ipykernel)",
   "language": "python",
   "name": "python3"
  },
  "language_info": {
   "codemirror_mode": {
    "name": "ipython",
    "version": 3
   },
   "file_extension": ".py",
   "mimetype": "text/x-python",
   "name": "python",
   "nbconvert_exporter": "python",
   "pygments_lexer": "ipython3",
   "version": "3.9.5"
  }
 },
 "nbformat": 4,
 "nbformat_minor": 5
}
