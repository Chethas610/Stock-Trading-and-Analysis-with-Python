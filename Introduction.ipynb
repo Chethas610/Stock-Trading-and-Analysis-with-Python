{
 "cells": [
  {
   "cell_type": "markdown",
   "id": "f1178c71-8e3a-45a0-8fac-4469c8789939",
   "metadata": {},
   "source": [
    "# Notebook Instructions\n",
    "\n",
    "1. If you are new to Jupyter notebooks, please go through this introductory manual <a href='https://quantra.quantinsti.com/quantra-notebook' target=\"_blank\">here</a>.\n",
    "1. Any changes made in this notebook would be lost after you close the browser window. **You can download the notebook to save your work on your PC.**\n",
    "1. Before running this notebook on your local PC:<br>\n",
    "i.  You need to set up a Python environment and the relevant packages on your local PC. To do so, go through the section on \"**Run Codes Locally on Your Machine**\" in the course.<br>\n",
    "ii. You need to **download the zip file available in the last unit** of this course. The zip file contains the data files and/or python modules that might be required to run this notebook."
   ]
  },
  {
   "cell_type": "markdown",
   "id": "28840bb4",
   "metadata": {},
   "source": [
    "## Let us begin\n",
    "\n",
    "It is now time to understand how to code programs in Python. Python uses a simple syntax which makes it very easy for someone learning to program for the first time. This notebook is comprehensively designed to help you get familiarized with programming and learn the basics of Python."
   ]
  },
  {
   "cell_type": "markdown",
   "id": "209b5d28",
   "metadata": {},
   "source": [
    "## What is programming?\n",
    "\n",
    "Programming is the way of telling a machine what to do. This machine might be your computer, smartphone, or tablet. The task might be something as simple as noting down today’s date or capturing information about the Earth’s atmosphere on a satellite. Programming has a lot of alias names and they’re used interchangeably. It goes by programming, developing, or coding all of which involves creating software that gets a machine to do what you want it to do."
   ]
  },
  {
   "cell_type": "markdown",
   "id": "bbc54ff6",
   "metadata": {},
   "source": [
    "### Hello World program\n",
    "\n",
    "How would you make Python print \"Hello World\" for you? Well, it's never been this easy, just use the <b> print </b> command."
   ]
  },
  {
   "cell_type": "code",
   "execution_count": 1,
   "id": "af2e10a4",
   "metadata": {},
   "outputs": [
    {
     "name": "stdout",
     "output_type": "stream",
     "text": [
      "Hello World!\n"
     ]
    }
   ],
   "source": [
    "print(\"Hello World!\")"
   ]
  },
  {
   "cell_type": "code",
   "execution_count": 2,
   "id": "e9ed64b7",
   "metadata": {},
   "outputs": [
    {
     "name": "stdout",
     "output_type": "stream",
     "text": [
      "I am new to programming!\n",
      "Python is cool!\n"
     ]
    }
   ],
   "source": [
    "# You may try other variations\n",
    "print(\"I am new to programming!\")\n",
    "print(\"Python is cool!\")"
   ]
  },
  {
   "cell_type": "markdown",
   "id": "2a004984",
   "metadata": {},
   "source": [
    "## Introduction to Python programming\n",
    "Python places more weight on coding productivity and code readability. Python\n",
    "makes use of simple syntax which looks like written English. It talks with words and\n",
    "sentences, rather than characters. Python is a portable language. Python can be installed\n",
    "and run on any computer.\n",
    "\n",
    "Python coding is a lot of fun and is easy. Take this Python code for an example:\n"
   ]
  },
  {
   "cell_type": "code",
   "execution_count": 3,
   "id": "e2fb11c2",
   "metadata": {},
   "outputs": [
    {
     "name": "stdout",
     "output_type": "stream",
     "text": [
      "5\n"
     ]
    }
   ],
   "source": [
    "x = 2\n",
    "y = 3\n",
    "sum = x + y\n",
    "print(sum)"
   ]
  },
  {
   "cell_type": "markdown",
   "id": "f580369f",
   "metadata": {},
   "source": [
    "Even without any coding background, you can easily make out that the code adds up two numbers and prints it. You may modify the code above and try different mathematical operations on different variables."
   ]
  },
  {
   "cell_type": "markdown",
   "id": "49f6f9dd",
   "metadata": {},
   "source": [
    "## Variables, data Types and objects\n",
    "\n",
    "We have studied how to use a variable in python in the previous video unit."
   ]
  },
  {
   "cell_type": "code",
   "execution_count": 4,
   "id": "877f2263",
   "metadata": {},
   "outputs": [],
   "source": [
    "x = 100"
   ]
  },
  {
   "cell_type": "markdown",
   "id": "ed438d36",
   "metadata": {},
   "source": [
    "One thing to keep in mind, the equal '=' sign used while assigning a value to a variable. It should not be read as 'equal to'. It should be read or interpreted as \"is set to\". \n",
    "\n",
    "In the previous example, we will read that the value of variable 'x' <b>is set to</b> '100'."
   ]
  },
  {
   "cell_type": "code",
   "execution_count": 5,
   "id": "435f0b09",
   "metadata": {},
   "outputs": [],
   "source": [
    "y = 50  # Initialising a new variable 'y' whose value is set to 50"
   ]
  },
  {
   "cell_type": "markdown",
   "id": "96fbbe04",
   "metadata": {},
   "source": [
    "### ID of an object\n",
    "The keyword <b>id ()</b> specifies the object's address in memory. Look at the code below for seeing the addresses of different objects."
   ]
  },
  {
   "cell_type": "code",
   "execution_count": 6,
   "id": "edff6a16",
   "metadata": {},
   "outputs": [
    {
     "data": {
      "text/plain": [
       "140720750243312"
      ]
     },
     "execution_count": 6,
     "metadata": {},
     "output_type": "execute_result"
    }
   ],
   "source": [
    "id(x)"
   ]
  },
  {
   "cell_type": "markdown",
   "id": "bc362ea3",
   "metadata": {},
   "source": [
    "You may change the variable name inside the function id() to print the id's of other variables."
   ]
  },
  {
   "cell_type": "code",
   "execution_count": 7,
   "id": "8aed68f4",
   "metadata": {},
   "outputs": [
    {
     "data": {
      "text/plain": [
       "140720750241712"
      ]
     },
     "execution_count": 7,
     "metadata": {},
     "output_type": "execute_result"
    }
   ],
   "source": [
    "id(y)"
   ]
  },
  {
   "cell_type": "markdown",
   "id": "933011aa",
   "metadata": {},
   "source": [
    "Note : The IDs of 'x' and 'y' are different."
   ]
  },
  {
   "cell_type": "markdown",
   "id": "395d3981",
   "metadata": {},
   "source": [
    "### Data type of an object\n",
    "\n",
    "The type of an object cannot change. It specifies two things, the operations that are allowed and the set of values that the object can hold. The keyword type() is used to check the type of an object."
   ]
  },
  {
   "cell_type": "code",
   "execution_count": 8,
   "id": "3002c4f6",
   "metadata": {},
   "outputs": [
    {
     "data": {
      "text/plain": [
       "int"
      ]
     },
     "execution_count": 8,
     "metadata": {},
     "output_type": "execute_result"
    }
   ],
   "source": [
    "type(x)"
   ]
  },
  {
   "cell_type": "code",
   "execution_count": 9,
   "id": "043378ac",
   "metadata": {},
   "outputs": [
    {
     "data": {
      "text/plain": [
       "int"
      ]
     },
     "execution_count": 9,
     "metadata": {},
     "output_type": "execute_result"
    }
   ],
   "source": [
    "type(y)"
   ]
  },
  {
   "cell_type": "markdown",
   "id": "eb069e31",
   "metadata": {},
   "source": [
    "Now, let us try something more."
   ]
  },
  {
   "cell_type": "code",
   "execution_count": 10,
   "id": "c4dff76a",
   "metadata": {},
   "outputs": [
    {
     "name": "stdout",
     "output_type": "stream",
     "text": [
      "101.11\n"
     ]
    },
    {
     "data": {
      "text/plain": [
       "float"
      ]
     },
     "execution_count": 10,
     "metadata": {},
     "output_type": "execute_result"
    }
   ],
   "source": [
    "x = x + 1.11\n",
    "print(x)      # This will print the new value of 'x' variable\n",
    "type(x)        # This will print the most updated data type of 'x'"
   ]
  },
  {
   "cell_type": "markdown",
   "id": "aa94f132",
   "metadata": {},
   "source": [
    "Now you may check the ID of the new 'x' object which is now a float and not an integer."
   ]
  },
  {
   "cell_type": "code",
   "execution_count": 11,
   "id": "3f3bdf78",
   "metadata": {},
   "outputs": [
    {
     "data": {
      "text/plain": [
       "1818280269904"
      ]
     },
     "execution_count": 11,
     "metadata": {},
     "output_type": "execute_result"
    }
   ],
   "source": [
    "id(x)"
   ]
  },
  {
   "cell_type": "markdown",
   "id": "890ee833",
   "metadata": {},
   "source": [
    "Note this is different from the 'int x' ID. \n",
    "\n",
    "Python automatically takes care of the physical representation of different data types i.e. an integer value will be stored in a different memory location than a float or string."
   ]
  },
  {
   "cell_type": "code",
   "execution_count": 12,
   "id": "e7367361",
   "metadata": {},
   "outputs": [
    {
     "name": "stdout",
     "output_type": "stream",
     "text": [
      "hundred\n"
     ]
    },
    {
     "data": {
      "text/plain": [
       "str"
      ]
     },
     "execution_count": 12,
     "metadata": {},
     "output_type": "execute_result"
    }
   ],
   "source": [
    "# let us now convert variable 'x' to a string data type and observe the changes\n",
    "x = \"hundred\"\n",
    "print(x)\n",
    "type(x)"
   ]
  },
  {
   "cell_type": "code",
   "execution_count": 13,
   "id": "a99bf4de",
   "metadata": {},
   "outputs": [
    {
     "data": {
      "text/plain": [
       "1818280371312"
      ]
     },
     "execution_count": 13,
     "metadata": {},
     "output_type": "execute_result"
    }
   ],
   "source": [
    "id(x)"
   ]
  },
  {
   "cell_type": "markdown",
   "id": "9fe83edf",
   "metadata": {},
   "source": [
    "### Object references\n",
    "\n",
    "Let us observe the following code."
   ]
  },
  {
   "cell_type": "code",
   "execution_count": 14,
   "id": "628c55c7",
   "metadata": {},
   "outputs": [],
   "source": [
    "a = 123\n",
    "b = a"
   ]
  },
  {
   "cell_type": "markdown",
   "id": "2beede7e",
   "metadata": {},
   "source": [
    "Where will the object point? Will it be to the same object ID?"
   ]
  },
  {
   "cell_type": "code",
   "execution_count": 15,
   "id": "01ad0748",
   "metadata": {},
   "outputs": [
    {
     "data": {
      "text/plain": [
       "140720750244048"
      ]
     },
     "execution_count": 15,
     "metadata": {},
     "output_type": "execute_result"
    }
   ],
   "source": [
    "id(a)"
   ]
  },
  {
   "cell_type": "code",
   "execution_count": 16,
   "id": "c1e0c69d",
   "metadata": {},
   "outputs": [
    {
     "data": {
      "text/plain": [
       "140720750244048"
      ]
     },
     "execution_count": 16,
     "metadata": {},
     "output_type": "execute_result"
    }
   ],
   "source": [
    "id(b)"
   ]
  },
  {
   "cell_type": "markdown",
   "id": "15276f19",
   "metadata": {},
   "source": [
    "Yes, Since same value is stored in both the variables 'a' and 'b', they will point to the same memory location or in other words, they will have the <b>same object ID</b>."
   ]
  },
  {
   "cell_type": "markdown",
   "id": "a4f028da",
   "metadata": {},
   "source": [
    "## Multi-line statements\n",
    "\n",
    "There is no semicolon to indicate an end of the statement and therefore Python interprets the end of the line as the end of the statement.\n",
    "\n",
    "For example, a code to calculate total marks."
   ]
  },
  {
   "cell_type": "code",
   "execution_count": 17,
   "id": "9aee4ddd",
   "metadata": {},
   "outputs": [
    {
     "name": "stdout",
     "output_type": "stream",
     "text": [
      "357\n"
     ]
    }
   ],
   "source": [
    "biology_marks = 82\n",
    "physics_marks = 91\n",
    "maths_marks = 96\n",
    "chemistry_marks = 88\n",
    "total_marks = biology_marks + physics_marks + maths_marks + chemistry_marks\n",
    "print (total_marks)"
   ]
  },
  {
   "cell_type": "markdown",
   "id": "8ee6a82f",
   "metadata": {},
   "source": [
    "However, if a line is too long, the code can be made readable by adding a split, to a single line of code and convert them into multiple lines. In such scenarios, use backward slash as line continuation character to specify that the line should continue."
   ]
  },
  {
   "cell_type": "code",
   "execution_count": 18,
   "id": "4070a81c",
   "metadata": {},
   "outputs": [
    {
     "name": "stdout",
     "output_type": "stream",
     "text": [
      "357\n"
     ]
    }
   ],
   "source": [
    "total_marks = biology_marks + \\\n",
    "    physics_marks + \\\n",
    "    maths_marks + \\\n",
    "    chemistry_marks\n",
    "\n",
    "print(total_marks)"
   ]
  },
  {
   "cell_type": "markdown",
   "id": "78035517",
   "metadata": {},
   "source": [
    "##  Indentation\n",
    "\n",
    "Python forces you to follow proper indentation. The number of spaces in indentation can be different, but all lines of code within the same block should have the same number of spaces in the indentation.\n",
    "\n",
    "For example, the 3rd line of the code in the cell below shows incorrect indentation. Try running the code to see the error that it throws."
   ]
  },
  {
   "cell_type": "code",
   "execution_count": 19,
   "id": "025b3767",
   "metadata": {},
   "outputs": [
    {
     "ename": "IndentationError",
     "evalue": "unexpected indent (<ipython-input-19-c5a6eaa33e3f>, line 3)",
     "output_type": "error",
     "traceback": [
      "\u001b[1;36m  File \u001b[1;32m\"<ipython-input-19-c5a6eaa33e3f>\"\u001b[1;36m, line \u001b[1;32m3\u001b[0m\n\u001b[1;33m    num_sq = num ** 2\u001b[0m\n\u001b[1;37m    ^\u001b[0m\n\u001b[1;31mIndentationError\u001b[0m\u001b[1;31m:\u001b[0m unexpected indent\n"
     ]
    }
   ],
   "source": [
    "# Python Program to calculate the square of number\n",
    "num = 8\n",
    "   num_sq = num ** 2\n",
    "print (num_sq)"
   ]
  },
  {
   "cell_type": "code",
   "execution_count": 20,
   "id": "feabe345",
   "metadata": {},
   "outputs": [
    {
     "name": "stdout",
     "output_type": "stream",
     "text": [
      "64\n"
     ]
    }
   ],
   "source": [
    "# On removing the indent\n",
    "num = 8\n",
    "num_sq = num ** 2\n",
    "print(num_sq)"
   ]
  },
  {
   "cell_type": "markdown",
   "id": "773756cf",
   "metadata": {},
   "source": [
    "In the upcoming IPython notebook, \n",
    "you will learn about <b>Modules and Packages</b>. But before that, let us print a statement in Python. <br><br>"
   ]
  }
 ],
 "metadata": {
  "anaconda-cloud": {},
  "kernelspec": {
   "display_name": "Python 3 (ipykernel)",
   "language": "python",
   "name": "python3"
  },
  "language_info": {
   "codemirror_mode": {
    "name": "ipython",
    "version": 3
   },
   "file_extension": ".py",
   "mimetype": "text/x-python",
   "name": "python",
   "nbconvert_exporter": "python",
   "pygments_lexer": "ipython3",
   "version": "3.9.5"
  }
 },
 "nbformat": 4,
 "nbformat_minor": 5
}
