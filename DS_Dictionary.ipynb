{
 "cells": [
  {
   "cell_type": "markdown",
   "id": "f1178c71-8e3a-45a0-8fac-4469c8789939",
   "metadata": {},
   "source": [
    "# Notebook Instructions\n",
    "\n",
    "1. If you are new to Jupyter notebooks, please go through this introductory manual <a href='https://quantra.quantinsti.com/quantra-notebook' target=\"_blank\">here</a>.\n",
    "1. Any changes made in this notebook would be lost after you close the browser window. **You can download the notebook to save your work on your PC.**\n",
    "1. Before running this notebook on your local PC:<br>\n",
    "i.  You need to set up a Python environment and the relevant packages on your local PC. To do so, go through the section on \"**Run Codes Locally on Your Machine**\" in the course.<br>\n",
    "ii. You need to **download the zip file available in the last unit** of this course. The zip file contains the data files and/or python modules that might be required to run this notebook."
   ]
  },
  {
   "cell_type": "markdown",
   "id": "74516e0c",
   "metadata": {},
   "source": [
    "# Dictionaries\n",
    "\n",
    "A dictionary is generally used for mapping. Similarly, a dictionary in Python also has a mapping between its “Key” and “Value” pairs. You can access the dictionary using ‘keys’ to get the information or ‘value’ stored within these ‘keys’."
   ]
  },
  {
   "cell_type": "markdown",
   "id": "dda5933b",
   "metadata": {},
   "source": [
    "## Creating & printing dictionaries\n",
    "\n",
    "Dictionaries are enclosed in brace brackets and the key: value pair should be separated by a comma."
   ]
  },
  {
   "cell_type": "code",
   "execution_count": 1,
   "id": "d443955c",
   "metadata": {},
   "outputs": [
    {
     "data": {
      "text/plain": [
       "dict"
      ]
     },
     "execution_count": 1,
     "metadata": {},
     "output_type": "execute_result"
    }
   ],
   "source": [
    "new_dict = {}  # Empty Dictionary\n",
    "\n",
    "type(new_dict)"
   ]
  },
  {
   "cell_type": "code",
   "execution_count": 2,
   "id": "7fca1115",
   "metadata": {},
   "outputs": [
    {
     "data": {
      "text/plain": [
       "dict"
      ]
     },
     "execution_count": 2,
     "metadata": {},
     "output_type": "execute_result"
    }
   ],
   "source": [
    "# Creating a new dictionary\n",
    "\n",
    "new_dict = {'Jack': 2563, 'Rose': 8965, 'Hockley': 7412,\n",
    "            'Fabrizo': 9632, 'Molly Brown': 4563}\n",
    "\n",
    "type(new_dict)"
   ]
  },
  {
   "cell_type": "code",
   "execution_count": 3,
   "id": "3e53f7d1",
   "metadata": {},
   "outputs": [
    {
     "name": "stdout",
     "output_type": "stream",
     "text": [
      "{'Jack': 2563, 'Rose': 8965, 'Hockley': 7412, 'Fabrizo': 9632, 'Molly Brown': 4563}\n"
     ]
    }
   ],
   "source": [
    "# Printing the dictionary\n",
    "\n",
    "print(new_dict)"
   ]
  },
  {
   "cell_type": "code",
   "execution_count": 4,
   "id": "660ca308",
   "metadata": {},
   "outputs": [
    {
     "data": {
      "text/plain": [
       "2563"
      ]
     },
     "execution_count": 4,
     "metadata": {},
     "output_type": "execute_result"
    }
   ],
   "source": [
    "# Printing the value for a particular key\n",
    "\n",
    "new_dict['Jack']"
   ]
  },
  {
   "cell_type": "code",
   "execution_count": 5,
   "id": "3d74323e",
   "metadata": {},
   "outputs": [
    {
     "data": {
      "text/plain": [
       "(8965, 7412)"
      ]
     },
     "execution_count": 5,
     "metadata": {},
     "output_type": "execute_result"
    }
   ],
   "source": [
    "# Printing multiple values of various keys\n",
    "\n",
    "new_dict['Rose'], new_dict['Hockley']"
   ]
  },
  {
   "cell_type": "markdown",
   "id": "aa401195",
   "metadata": {},
   "source": [
    "## Dictionary manipulations\n",
    "\n",
    "Let us have a look at the few functions for accessing or manipulating dictionaries."
   ]
  },
  {
   "cell_type": "markdown",
   "id": "dbcd70a2",
   "metadata": {},
   "source": [
    "<b>len (x_dict)</b> <br>\n",
    "To know the number of key: value pairs in the dictionary."
   ]
  },
  {
   "cell_type": "code",
   "execution_count": 6,
   "id": "7d9fbd70",
   "metadata": {},
   "outputs": [
    {
     "name": "stdout",
     "output_type": "stream",
     "text": [
      "{'Jack': 2563, 'Rose': 8965, 'Hockley': 7412, 'Fabrizo': 9632, 'Molly Brown': 4563}\n"
     ]
    }
   ],
   "source": [
    "print(new_dict)"
   ]
  },
  {
   "cell_type": "code",
   "execution_count": 7,
   "id": "a4034224",
   "metadata": {},
   "outputs": [
    {
     "data": {
      "text/plain": [
       "5"
      ]
     },
     "execution_count": 7,
     "metadata": {},
     "output_type": "execute_result"
    }
   ],
   "source": [
    "len(new_dict)"
   ]
  },
  {
   "cell_type": "markdown",
   "id": "f66bd0d4",
   "metadata": {},
   "source": [
    "<b>x_dict.keys ( )</b> <br>\n",
    "Returns all the 'keys' of dictionaries"
   ]
  },
  {
   "cell_type": "code",
   "execution_count": 8,
   "id": "ec122f92",
   "metadata": {},
   "outputs": [
    {
     "data": {
      "text/plain": [
       "dict_keys(['Jack', 'Rose', 'Hockley', 'Fabrizo', 'Molly Brown'])"
      ]
     },
     "execution_count": 8,
     "metadata": {},
     "output_type": "execute_result"
    }
   ],
   "source": [
    "new_dict.keys()"
   ]
  },
  {
   "cell_type": "markdown",
   "id": "03505b7b",
   "metadata": {},
   "source": [
    "<b>x_dict.values ( )</b> <br>\n",
    "Returns all the 'values' of dictionaries"
   ]
  },
  {
   "cell_type": "code",
   "execution_count": 9,
   "id": "807c9220",
   "metadata": {},
   "outputs": [
    {
     "data": {
      "text/plain": [
       "dict_values([2563, 8965, 7412, 9632, 4563])"
      ]
     },
     "execution_count": 9,
     "metadata": {},
     "output_type": "execute_result"
    }
   ],
   "source": [
    "new_dict.values()"
   ]
  },
  {
   "cell_type": "markdown",
   "id": "c4ed85ba",
   "metadata": {},
   "source": [
    "The <b>del</b> statement <br>\n",
    "It is used for deleting any keys from the dictionary."
   ]
  },
  {
   "cell_type": "code",
   "execution_count": 10,
   "id": "dd1234b1",
   "metadata": {},
   "outputs": [
    {
     "name": "stdout",
     "output_type": "stream",
     "text": [
      "{'Jack': 2563, 'Rose': 8965, 'Fabrizo': 9632, 'Molly Brown': 4563}\n"
     ]
    }
   ],
   "source": [
    "del new_dict['Hockley']\n",
    "\n",
    "print(new_dict)"
   ]
  },
  {
   "cell_type": "markdown",
   "id": "d9d42231",
   "metadata": {},
   "source": [
    "x_dict.<b>pop (key) </b> <br>\n",
    "It will pop a 'value' of the reqired key.\n"
   ]
  },
  {
   "cell_type": "code",
   "execution_count": 11,
   "id": "39fb4e16",
   "metadata": {},
   "outputs": [
    {
     "data": {
      "text/plain": [
       "9632"
      ]
     },
     "execution_count": 11,
     "metadata": {},
     "output_type": "execute_result"
    }
   ],
   "source": [
    "new_dict.pop('Fabrizo')"
   ]
  },
  {
   "cell_type": "code",
   "execution_count": 12,
   "id": "db8cff3a",
   "metadata": {},
   "outputs": [
    {
     "name": "stdout",
     "output_type": "stream",
     "text": [
      "{'Jack': 2563, 'Rose': 8965, 'Molly Brown': 4563}\n"
     ]
    }
   ],
   "source": [
    "print(new_dict)  # Our latest dictionary"
   ]
  },
  {
   "cell_type": "markdown",
   "id": "f7ea9b7c",
   "metadata": {},
   "source": [
    "<b>sorted</b> (x_dict) <br>\n",
    "\n",
    "The dictionary will get sorted by its values."
   ]
  },
  {
   "cell_type": "code",
   "execution_count": 13,
   "id": "2d7fa57e",
   "metadata": {},
   "outputs": [
    {
     "name": "stdout",
     "output_type": "stream",
     "text": [
      "{'Jack': 2563, 'Rose': 8965, 'Molly Brown': 4563}\n"
     ]
    }
   ],
   "source": [
    "print(new_dict)"
   ]
  },
  {
   "cell_type": "code",
   "execution_count": 14,
   "id": "0bb3c804",
   "metadata": {},
   "outputs": [
    {
     "data": {
      "text/plain": [
       "['Jack', 'Molly Brown', 'Rose']"
      ]
     },
     "execution_count": 14,
     "metadata": {},
     "output_type": "execute_result"
    }
   ],
   "source": [
    "sorted(new_dict)  # keys sorted by values"
   ]
  },
  {
   "cell_type": "markdown",
   "id": "a0748fc4",
   "metadata": {},
   "source": [
    "x_dict.<b>clear</b> () <br>\n",
    "Clears all the content of the dictionary"
   ]
  },
  {
   "cell_type": "code",
   "execution_count": 15,
   "id": "7b2fffd1",
   "metadata": {},
   "outputs": [
    {
     "name": "stdout",
     "output_type": "stream",
     "text": [
      "{}\n"
     ]
    }
   ],
   "source": [
    "new_dict.clear()\n",
    "\n",
    "print(new_dict)"
   ]
  },
  {
   "cell_type": "markdown",
   "id": "993efca3",
   "metadata": {},
   "source": [
    "In the upcoming IPython Notebook, we will learn how <b>'Tuples' and 'Sets'</b> are used. <br><br>"
   ]
  }
 ],
 "metadata": {
  "kernelspec": {
   "display_name": "Python 3 (ipykernel)",
   "language": "python",
   "name": "python3"
  },
  "language_info": {
   "codemirror_mode": {
    "name": "ipython",
    "version": 3
   },
   "file_extension": ".py",
   "mimetype": "text/x-python",
   "name": "python",
   "nbconvert_exporter": "python",
   "pygments_lexer": "ipython3",
   "version": "3.9.5"
  }
 },
 "nbformat": 4,
 "nbformat_minor": 5
}
