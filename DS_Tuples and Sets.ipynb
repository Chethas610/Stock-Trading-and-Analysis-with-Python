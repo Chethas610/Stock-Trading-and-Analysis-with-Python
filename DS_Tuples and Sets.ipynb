{
 "cells": [
  {
   "cell_type": "markdown",
   "id": "f1178c71-8e3a-45a0-8fac-4469c8789939",
   "metadata": {},
   "source": [
    "# Notebook Instructions\n",
    "\n",
    "1. If you are new to Jupyter notebooks, please go through this introductory manual <a href='https://quantra.quantinsti.com/quantra-notebook' target=\"_blank\">here</a>.\n",
    "1. Any changes made in this notebook would be lost after you close the browser window. **You can download the notebook to save your work on your PC.**\n",
    "1. Before running this notebook on your local PC:<br>\n",
    "i.  You need to set up a Python environment and the relevant packages on your local PC. To do so, go through the section on \"**Run Codes Locally on Your Machine**\" in the course.<br>\n",
    "ii. You need to **download the zip file available in the last unit** of this course. The zip file contains the data files and/or python modules that might be required to run this notebook."
   ]
  },
  {
   "cell_type": "markdown",
   "id": "e8ece732",
   "metadata": {},
   "source": [
    "# Tuples\n",
    "\n",
    "Tuple is an immutable list. Similar to lists a tuple can contain a heterogeneous sequence of elements, but it is impossible to append, edit or remove any individual elements within a tuple.\n",
    "\n",
    "## Creating tuples\n",
    "Tuples are enclosed in parenthesis, and commas separate the items within them."
   ]
  },
  {
   "cell_type": "code",
   "execution_count": 1,
   "id": "8bee491d",
   "metadata": {},
   "outputs": [
    {
     "data": {
      "text/plain": [
       "tuple"
      ]
     },
     "execution_count": 1,
     "metadata": {},
     "output_type": "execute_result"
    }
   ],
   "source": [
    "# Empty tuple\n",
    "new_tup = ()  \n",
    "type(new_tup)"
   ]
  },
  {
   "cell_type": "code",
   "execution_count": 2,
   "id": "44446612",
   "metadata": {},
   "outputs": [
    {
     "data": {
      "text/plain": [
       "tuple"
      ]
     },
     "execution_count": 2,
     "metadata": {},
     "output_type": "execute_result"
    }
   ],
   "source": [
    " # A tuple of integers\n",
    "new_tup = (10, 20, 30, 40) \n",
    "type(new_tup)"
   ]
  },
  {
   "cell_type": "code",
   "execution_count": 3,
   "id": "76b50605",
   "metadata": {},
   "outputs": [
    {
     "data": {
      "text/plain": [
       "tuple"
      ]
     },
     "execution_count": 3,
     "metadata": {},
     "output_type": "execute_result"
    }
   ],
   "source": [
    "# A tuple of mixed data type\n",
    "new_tup = (10, 20.2, 'thirty', 40)  \n",
    "type(new_tup)"
   ]
  },
  {
   "cell_type": "code",
   "execution_count": 4,
   "id": "180d218a",
   "metadata": {},
   "outputs": [
    {
     "data": {
      "text/plain": [
       "tuple"
      ]
     },
     "execution_count": 4,
     "metadata": {},
     "output_type": "execute_result"
    }
   ],
   "source": [
    "# A nested tuple\n",
    "new_tup = ((10, 20, 30), (10.1, 20.2, 30.3),\n",
    "           (\"ten\", \"twenty\", \"thirty\"))  \n",
    "type(new_tup)"
   ]
  },
  {
   "cell_type": "code",
   "execution_count": 5,
   "id": "de2a830b",
   "metadata": {},
   "outputs": [
    {
     "data": {
      "text/plain": [
       "tuple"
      ]
     },
     "execution_count": 5,
     "metadata": {},
     "output_type": "execute_result"
    }
   ],
   "source": [
    "# A deeply nested tuple\n",
    "new_tup = (10, (20.2, (\"thirty\", (40))))  \n",
    "type(new_tup)"
   ]
  },
  {
   "cell_type": "markdown",
   "id": "8d00f50d",
   "metadata": {},
   "source": [
    "## Can we manipulate a tuple?\n",
    "\n",
    "There are no methods supported by tuples that can help us manipulate a tuple once formed. Tuple does not even support assigning a new item at any particular index. "
   ]
  },
  {
   "cell_type": "code",
   "execution_count": 6,
   "id": "67269937",
   "metadata": {},
   "outputs": [
    {
     "name": "stdout",
     "output_type": "stream",
     "text": [
      "(10, 20, 30, 40)\n"
     ]
    }
   ],
   "source": [
    "# This is the 'original' tuple which you have created\n",
    "my_tup = (10, 20, 30, 40)\n",
    "\n",
    "print(my_tup)"
   ]
  },
  {
   "cell_type": "code",
   "execution_count": 7,
   "id": "95ff0474",
   "metadata": {},
   "outputs": [
    {
     "data": {
      "text/plain": [
       "10"
      ]
     },
     "execution_count": 7,
     "metadata": {},
     "output_type": "execute_result"
    }
   ],
   "source": [
    "# Returning the item at the 0th index\n",
    "my_tup[0]  "
   ]
  },
  {
   "cell_type": "code",
   "execution_count": 8,
   "id": "9f513392",
   "metadata": {},
   "outputs": [
    {
     "ename": "TypeError",
     "evalue": "'tuple' object does not support item assignment",
     "output_type": "error",
     "traceback": [
      "\u001b[1;31m---------------------------------------------------------------------------\u001b[0m",
      "\u001b[1;31mTypeError\u001b[0m                                 Traceback (most recent call last)",
      "\u001b[1;32m<ipython-input-8-25158b1e3d7a>\u001b[0m in \u001b[0;36m<module>\u001b[1;34m\u001b[0m\n\u001b[0;32m      1\u001b[0m \u001b[1;31m# Assigning a new item to the 0th index\u001b[0m\u001b[1;33m\u001b[0m\u001b[1;33m\u001b[0m\u001b[1;33m\u001b[0m\u001b[0m\n\u001b[1;32m----> 2\u001b[1;33m \u001b[0mmy_tup\u001b[0m\u001b[1;33m[\u001b[0m\u001b[1;36m0\u001b[0m\u001b[1;33m]\u001b[0m \u001b[1;33m=\u001b[0m \u001b[1;34m'40'\u001b[0m\u001b[1;33m\u001b[0m\u001b[1;33m\u001b[0m\u001b[0m\n\u001b[0m",
      "\u001b[1;31mTypeError\u001b[0m: 'tuple' object does not support item assignment"
     ]
    }
   ],
   "source": [
    "# Assigning a new item to the 0th index\n",
    "my_tup[0] = '40'"
   ]
  },
  {
   "cell_type": "code",
   "execution_count": null,
   "id": "e0a0ecb6",
   "metadata": {},
   "outputs": [],
   "source": [
    "# Trying to Append '50' at the 4th index of the created tuple.\n",
    "my_tup.append(50)"
   ]
  },
  {
   "cell_type": "markdown",
   "id": "7b6058aa",
   "metadata": {},
   "source": [
    "But we can certainly find the length of a tuple.\n",
    "\n",
    "<b>len</b> (x) <br>\n",
    "It returns the length of the tuple."
   ]
  },
  {
   "cell_type": "code",
   "execution_count": 9,
   "id": "6787237e",
   "metadata": {},
   "outputs": [
    {
     "data": {
      "text/plain": [
       "4"
      ]
     },
     "execution_count": 9,
     "metadata": {},
     "output_type": "execute_result"
    }
   ],
   "source": [
    "len(my_tup)"
   ]
  },
  {
   "cell_type": "markdown",
   "id": "0506fe51",
   "metadata": {},
   "source": [
    "# Sets\n",
    "\n",
    "A set is an unordered collection with no duplicate elements. They are useful to create lists that hold only unique values and are also mutable. The elements of a set can be anything like numbers, strings or characters.\n",
    "\n",
    "## Creating & printing sets\n",
    "Curly braces or the set () function can be used to create sets, and the items within them are separated by commas."
   ]
  },
  {
   "cell_type": "code",
   "execution_count": 10,
   "id": "d499dfc3",
   "metadata": {},
   "outputs": [
    {
     "data": {
      "text/plain": [
       "dict"
      ]
     },
     "execution_count": 10,
     "metadata": {},
     "output_type": "execute_result"
    }
   ],
   "source": [
    "# Empty Set ---> An empty set cannot be created\n",
    "new_set = {} \n",
    "type(new_set)"
   ]
  },
  {
   "cell_type": "code",
   "execution_count": 11,
   "id": "c70d70a0",
   "metadata": {},
   "outputs": [
    {
     "data": {
      "text/plain": [
       "set"
      ]
     },
     "execution_count": 11,
     "metadata": {},
     "output_type": "execute_result"
    }
   ],
   "source": [
    "new_set = {'Neo', 'Morphius', 'Trinity', 'Agent Smith', 'Oracle'} \n",
    "type(new_set)"
   ]
  },
  {
   "cell_type": "code",
   "execution_count": 12,
   "id": "0b3dcdc7",
   "metadata": {},
   "outputs": [
    {
     "name": "stdout",
     "output_type": "stream",
     "text": [
      "{'Morphius', 'Trinity', 'Neo', 'Agent Smith', 'Oracle'}\n"
     ]
    }
   ],
   "source": [
    "print(new_set)"
   ]
  },
  {
   "cell_type": "code",
   "execution_count": 13,
   "id": "1ac94df8",
   "metadata": {},
   "outputs": [
    {
     "name": "stdout",
     "output_type": "stream",
     "text": [
      "{'Morphius', 'Trinity', 'Neo', 'Agent Smith', 'Oracle'}\n"
     ]
    }
   ],
   "source": [
    "# Now there are 5 'Agent Smiths' in our set. What will happen if we print this set?\n",
    "new_set = {'Neo', 'Morphius', 'Trinity', 'Agent Smith',\n",
    "           'Agent Smith', 'Agent Smith', 'Agent Smith', 'Oracle'}\n",
    "\n",
    "# The set will only print unique values\n",
    "print(new_set)  "
   ]
  },
  {
   "cell_type": "code",
   "execution_count": 14,
   "id": "631b7497",
   "metadata": {},
   "outputs": [
    {
     "data": {
      "text/plain": [
       "set"
      ]
     },
     "execution_count": 14,
     "metadata": {},
     "output_type": "execute_result"
    }
   ],
   "source": [
    "# Using the set () function to create sets\n",
    "x_set = set('THEMATRIX')\n",
    "\n",
    "type(x_set)"
   ]
  },
  {
   "cell_type": "code",
   "execution_count": 15,
   "id": "b1799be3",
   "metadata": {},
   "outputs": [
    {
     "name": "stdout",
     "output_type": "stream",
     "text": [
      "{'R', 'I', 'E', 'T', 'M', 'X', 'H', 'A'}\n"
     ]
    }
   ],
   "source": [
    "# 'THE MATRIX' has two 'T's. Only unique values will be printed.\n",
    "print (x_set) "
   ]
  },
  {
   "cell_type": "code",
   "execution_count": 16,
   "id": "d16fcfcf",
   "metadata": {},
   "outputs": [
    {
     "name": "stdout",
     "output_type": "stream",
     "text": [
      "{'R', 'O', 'I', 'E', 'N', 'T', 'M', 'H', 'A'}\n"
     ]
    }
   ],
   "source": [
    "# An additional example\n",
    "y_set = set('THETERMINATOR')\n",
    "\n",
    "print(y_set)"
   ]
  },
  {
   "cell_type": "markdown",
   "id": "66a11722",
   "metadata": {},
   "source": [
    "## Set operations\n",
    "\n",
    "You can even perform mathematical operations like set union, set intersection, set difference and symmetric difference amongst different datasets."
   ]
  },
  {
   "cell_type": "code",
   "execution_count": 17,
   "id": "b7711ec2",
   "metadata": {},
   "outputs": [
    {
     "name": "stdout",
     "output_type": "stream",
     "text": [
      "{'B', 'C', 'E', 'D', 'A'}\n",
      "{'C', 'E', 'D', 'G', 'F'}\n"
     ]
    }
   ],
   "source": [
    "# We will create 2 new sets. The 'x_set' and the 'y_set'.\n",
    "\n",
    "x_set = set('ABCDE')\n",
    "y_set = set('CDEFG')\n",
    "\n",
    "print(x_set)\n",
    "print(y_set)"
   ]
  },
  {
   "cell_type": "markdown",
   "id": "9b03955e",
   "metadata": {},
   "source": [
    "<b> x.union(y) </b> <br>\n",
    "This method returns all the unique items that are present in the two sets, as a new set."
   ]
  },
  {
   "cell_type": "code",
   "execution_count": 18,
   "id": "1f1fba97",
   "metadata": {},
   "outputs": [
    {
     "data": {
      "text/plain": [
       "{'A', 'B', 'C', 'D', 'E', 'F', 'G'}"
      ]
     },
     "execution_count": 18,
     "metadata": {},
     "output_type": "execute_result"
    }
   ],
   "source": [
    "x_set.union(y_set)"
   ]
  },
  {
   "cell_type": "code",
   "execution_count": 19,
   "id": "c23e2fa2",
   "metadata": {},
   "outputs": [
    {
     "data": {
      "text/plain": [
       "{'A', 'B', 'C', 'D', 'E', 'F', 'G'}"
      ]
     },
     "execution_count": 19,
     "metadata": {},
     "output_type": "execute_result"
    }
   ],
   "source": [
    "# Union can be performed by using the pipe '|' operator also\n",
    "x_set | y_set "
   ]
  },
  {
   "cell_type": "markdown",
   "id": "c952e3b3",
   "metadata": {},
   "source": [
    "<b> x.intersection(y) </b> <br>\n",
    "This method returns the common items that are present in two sets, as a new set."
   ]
  },
  {
   "cell_type": "code",
   "execution_count": 20,
   "id": "a2657244",
   "metadata": {},
   "outputs": [
    {
     "data": {
      "text/plain": [
       "{'C', 'D', 'E'}"
      ]
     },
     "execution_count": 20,
     "metadata": {},
     "output_type": "execute_result"
    }
   ],
   "source": [
    "x_set.intersection(y_set)"
   ]
  },
  {
   "cell_type": "code",
   "execution_count": 21,
   "id": "3dfccfe2",
   "metadata": {},
   "outputs": [
    {
     "data": {
      "text/plain": [
       "{'C', 'D', 'E'}"
      ]
     },
     "execution_count": 21,
     "metadata": {},
     "output_type": "execute_result"
    }
   ],
   "source": [
    "# Intersection can be performed by using the ampersand '&' operator\n",
    "x_set & y_set  "
   ]
  },
  {
   "cell_type": "markdown",
   "id": "a6b10df2",
   "metadata": {},
   "source": [
    "<b> x.difference(y) </b> <br>\n",
    "This method returns the items of 'set 1' which are not common (repetitive) to the 'set 2', as a new set. "
   ]
  },
  {
   "cell_type": "code",
   "execution_count": 22,
   "id": "b5eaee48",
   "metadata": {},
   "outputs": [
    {
     "data": {
      "text/plain": [
       "{'A', 'B'}"
      ]
     },
     "execution_count": 22,
     "metadata": {},
     "output_type": "execute_result"
    }
   ],
   "source": [
    "x_set.difference(y_set)"
   ]
  },
  {
   "cell_type": "code",
   "execution_count": 23,
   "id": "9bec7b9d",
   "metadata": {},
   "outputs": [
    {
     "data": {
      "text/plain": [
       "{'A', 'B'}"
      ]
     },
     "execution_count": 23,
     "metadata": {},
     "output_type": "execute_result"
    }
   ],
   "source": [
    "# Difference can be performed using the minus '-' operator\n",
    "x_set - y_set  "
   ]
  },
  {
   "cell_type": "markdown",
   "id": "5dd1396a",
   "metadata": {},
   "source": [
    "<b> difference_update () </b> <br>\n",
    "This method removes all the elements of 'set 2' common to 'set 1' in 'set1'. It updates 'set 1'."
   ]
  },
  {
   "cell_type": "code",
   "execution_count": 24,
   "id": "2f5d2a07",
   "metadata": {},
   "outputs": [
    {
     "name": "stdout",
     "output_type": "stream",
     "text": [
      "{'B', 'A'}\n",
      "{'C', 'E', 'D', 'G', 'F'}\n"
     ]
    }
   ],
   "source": [
    "x_set.difference_update(y_set)\n",
    "\n",
    "print(x_set)\n",
    "print(y_set)"
   ]
  },
  {
   "cell_type": "code",
   "execution_count": 25,
   "id": "be6ea699",
   "metadata": {},
   "outputs": [
    {
     "name": "stdout",
     "output_type": "stream",
     "text": [
      "{'B', 'A'}\n",
      "{'C', 'E', 'D', 'G', 'F'}\n"
     ]
    }
   ],
   "source": [
    "x_set = set('ABCDE')\n",
    "y_set = set('CDEFG')\n",
    "\n",
    "# Difference update can be abbreviated in the shown manner i.e. 'x = x-y'\n",
    "x_set = x_set - y_set\n",
    "\n",
    "print(x_set)\n",
    "print(y_set)"
   ]
  },
  {
   "cell_type": "markdown",
   "id": "df0aff4c",
   "metadata": {},
   "source": [
    "<b>x.isdisjoint(y)</b> <br>\n",
    "This method returns True if two sets have null intersection. "
   ]
  },
  {
   "cell_type": "code",
   "execution_count": 26,
   "id": "4233b89a",
   "metadata": {},
   "outputs": [
    {
     "data": {
      "text/plain": [
       "False"
      ]
     },
     "execution_count": 26,
     "metadata": {},
     "output_type": "execute_result"
    }
   ],
   "source": [
    "x_set = set('ABCDE')\n",
    "y_set = set('CDEFG')\n",
    "\n",
    "x_set.isdisjoint(y_set)"
   ]
  },
  {
   "cell_type": "code",
   "execution_count": 27,
   "id": "f3425293",
   "metadata": {},
   "outputs": [
    {
     "data": {
      "text/plain": [
       "True"
      ]
     },
     "execution_count": 27,
     "metadata": {},
     "output_type": "execute_result"
    }
   ],
   "source": [
    "x_set = set('ABC')\n",
    "y_set = set('EFG')\n",
    "\n",
    "x_set.isdisjoint(y_set)"
   ]
  },
  {
   "cell_type": "markdown",
   "id": "83fc6bb0",
   "metadata": {},
   "source": [
    "<b>y.issubset(x)</b> <br>\n",
    "This method returns True for 'Set 2', if all the elements of 'Set 2' are present in 'Set 1'"
   ]
  },
  {
   "cell_type": "code",
   "execution_count": 28,
   "id": "8be21202",
   "metadata": {},
   "outputs": [
    {
     "data": {
      "text/plain": [
       "False"
      ]
     },
     "execution_count": 28,
     "metadata": {},
     "output_type": "execute_result"
    }
   ],
   "source": [
    "x_set = set('ABCDE')\n",
    "y_set = set('CDEFG')\n",
    "\n",
    "y_set.issubset(x_set)"
   ]
  },
  {
   "cell_type": "code",
   "execution_count": 29,
   "id": "3632eac6",
   "metadata": {},
   "outputs": [
    {
     "data": {
      "text/plain": [
       "True"
      ]
     },
     "execution_count": 29,
     "metadata": {},
     "output_type": "execute_result"
    }
   ],
   "source": [
    "x_set = set('ABCDE')\n",
    "y_set = set('CDE')\n",
    "\n",
    "y_set.issubset(x_set)"
   ]
  },
  {
   "cell_type": "code",
   "execution_count": 30,
   "id": "0d0da915",
   "metadata": {},
   "outputs": [
    {
     "data": {
      "text/plain": [
       "True"
      ]
     },
     "execution_count": 30,
     "metadata": {},
     "output_type": "execute_result"
    }
   ],
   "source": [
    "# One can check a subset using a less than '<' operator.\n",
    "y_set < x_set  "
   ]
  },
  {
   "cell_type": "markdown",
   "id": "0a6555bc",
   "metadata": {},
   "source": [
    "<b>x.issuperset(y)</b><br>\n",
    "This method returns True for 'Set 1' if all the elements of Set 2 are present in 'Set 1'. "
   ]
  },
  {
   "cell_type": "code",
   "execution_count": 31,
   "id": "b4c73f03",
   "metadata": {},
   "outputs": [
    {
     "data": {
      "text/plain": [
       "False"
      ]
     },
     "execution_count": 31,
     "metadata": {},
     "output_type": "execute_result"
    }
   ],
   "source": [
    "x_set = set('ABCDE')\n",
    "y_set = set('CDEFG')\n",
    "\n",
    "x_set.issuperset(y_set)"
   ]
  },
  {
   "cell_type": "code",
   "execution_count": 32,
   "id": "2088ff81",
   "metadata": {},
   "outputs": [
    {
     "data": {
      "text/plain": [
       "True"
      ]
     },
     "execution_count": 32,
     "metadata": {},
     "output_type": "execute_result"
    }
   ],
   "source": [
    "x_set = set('ABCDE')\n",
    "y_set = set('CDE')\n",
    "\n",
    "x_set.issuperset(y_set)"
   ]
  },
  {
   "cell_type": "code",
   "execution_count": 33,
   "id": "a3d3fb33",
   "metadata": {},
   "outputs": [
    {
     "data": {
      "text/plain": [
       "True"
      ]
     },
     "execution_count": 33,
     "metadata": {},
     "output_type": "execute_result"
    }
   ],
   "source": [
    "# One can check a superset using a greater than '>' operator.\n",
    "x_set > y_set  "
   ]
  },
  {
   "cell_type": "markdown",
   "id": "ed75b009",
   "metadata": {},
   "source": [
    "<b>x.add(e)</b> <br>\n",
    "It adds a single item to the set and updates the set."
   ]
  },
  {
   "cell_type": "code",
   "execution_count": 34,
   "id": "5d475a7a",
   "metadata": {},
   "outputs": [
    {
     "name": "stdout",
     "output_type": "stream",
     "text": [
      "{'B', 'C', 'E', 'D', 'A'}\n"
     ]
    }
   ],
   "source": [
    "x_set = set('ABCDE')\n",
    "\n",
    "print(x_set)"
   ]
  },
  {
   "cell_type": "code",
   "execution_count": 35,
   "id": "d5b2e9ab",
   "metadata": {},
   "outputs": [
    {
     "name": "stdout",
     "output_type": "stream",
     "text": [
      "{'B', 'C', 'E', 'D', 'A', 'FGH'}\n"
     ]
    }
   ],
   "source": [
    "x_set.add('FGH')\n",
    "\n",
    "print(x_set)"
   ]
  },
  {
   "cell_type": "markdown",
   "id": "50816744",
   "metadata": {},
   "source": [
    "<b> x.discard(e)</b> <br>\n",
    "It removes a single item from the set and updates it."
   ]
  },
  {
   "cell_type": "code",
   "execution_count": 36,
   "id": "e62f8953",
   "metadata": {},
   "outputs": [
    {
     "name": "stdout",
     "output_type": "stream",
     "text": [
      "{'B', 'C', 'E', 'D', 'A', 'FGH'}\n"
     ]
    }
   ],
   "source": [
    "print(x_set)"
   ]
  },
  {
   "cell_type": "code",
   "execution_count": 37,
   "id": "03dd1178",
   "metadata": {},
   "outputs": [
    {
     "name": "stdout",
     "output_type": "stream",
     "text": [
      "{'B', 'C', 'E', 'D', 'A'}\n"
     ]
    }
   ],
   "source": [
    "x_set.discard('FGH')\n",
    "\n",
    "print(x_set)"
   ]
  },
  {
   "cell_type": "markdown",
   "id": "f6d6089a",
   "metadata": {},
   "source": [
    "<b> x.pop () </b> <br>\n",
    "It pops and returns any arbitary item from the set."
   ]
  },
  {
   "cell_type": "code",
   "execution_count": 38,
   "id": "e5441a85",
   "metadata": {},
   "outputs": [
    {
     "name": "stdout",
     "output_type": "stream",
     "text": [
      "{'B', 'C', 'E', 'D', 'A'}\n"
     ]
    }
   ],
   "source": [
    "print(x_set)"
   ]
  },
  {
   "cell_type": "code",
   "execution_count": 39,
   "id": "8acbaf07",
   "metadata": {},
   "outputs": [
    {
     "data": {
      "text/plain": [
       "'B'"
      ]
     },
     "execution_count": 39,
     "metadata": {},
     "output_type": "execute_result"
    }
   ],
   "source": [
    "x_set.pop()"
   ]
  },
  {
   "cell_type": "markdown",
   "id": "cf305821",
   "metadata": {},
   "source": [
    "<b> x.copy () </b> <br>\n",
    "It creates a shallow copy of any set."
   ]
  },
  {
   "cell_type": "code",
   "execution_count": 40,
   "id": "e3168d86",
   "metadata": {},
   "outputs": [
    {
     "name": "stdout",
     "output_type": "stream",
     "text": [
      "{'C', 'E', 'D', 'A'}\n"
     ]
    }
   ],
   "source": [
    "# There are only 4 items in the set, since one just got popped in the above cell execution.\n",
    "print(x_set)"
   ]
  },
  {
   "cell_type": "code",
   "execution_count": 41,
   "id": "7035f2c7",
   "metadata": {},
   "outputs": [
    {
     "data": {
      "text/plain": [
       "{'A', 'C', 'D', 'E'}"
      ]
     },
     "execution_count": 41,
     "metadata": {},
     "output_type": "execute_result"
    }
   ],
   "source": [
    "x_set.copy()"
   ]
  },
  {
   "cell_type": "markdown",
   "id": "773d11df",
   "metadata": {},
   "source": [
    "<b> x.clear() </b> <br>\n",
    "It clears all the items of the set."
   ]
  },
  {
   "cell_type": "code",
   "execution_count": 42,
   "id": "d2f2216b",
   "metadata": {},
   "outputs": [
    {
     "name": "stdout",
     "output_type": "stream",
     "text": [
      "{'C', 'E', 'D', 'A'}\n"
     ]
    }
   ],
   "source": [
    "print(x_set)"
   ]
  },
  {
   "cell_type": "code",
   "execution_count": 43,
   "id": "99d0d46f",
   "metadata": {},
   "outputs": [
    {
     "name": "stdout",
     "output_type": "stream",
     "text": [
      "set()\n"
     ]
    }
   ],
   "source": [
    "x_set.clear()\n",
    "\n",
    "print(x_set)"
   ]
  },
  {
   "cell_type": "markdown",
   "id": "9ee12088",
   "metadata": {},
   "source": [
    "This is where we will end this section on Data Structures. In the next section, we will learn how to import and visualize time series data. <br><br>"
   ]
  }
 ],
 "metadata": {
  "anaconda-cloud": {},
  "kernelspec": {
   "display_name": "Python 3 (ipykernel)",
   "language": "python",
   "name": "python3"
  },
  "language_info": {
   "codemirror_mode": {
    "name": "ipython",
    "version": 3
   },
   "file_extension": ".py",
   "mimetype": "text/x-python",
   "name": "python",
   "nbconvert_exporter": "python",
   "pygments_lexer": "ipython3",
   "version": "3.9.5"
  }
 },
 "nbformat": 4,
 "nbformat_minor": 5
}
